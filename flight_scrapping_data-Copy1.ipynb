{
 "cells": [
  {
   "cell_type": "markdown",
   "id": "bd5b16a2",
   "metadata": {},
   "source": [
    "# FLIGHT PRICE PREDICTION Data Scrapping"
   ]
  },
  {
   "cell_type": "code",
   "execution_count": 1,
   "id": "5615b910",
   "metadata": {},
   "outputs": [],
   "source": [
    "import pandas as pd\n",
    "import selenium\n",
    "from selenium import webdriver\n",
    "import time\n",
    "import re\n",
    "import requests\n",
    "from selenium.common.exceptions import NoSuchElementException\n",
    "\n",
    "import warnings\n",
    "warnings.filterwarnings(\"ignore\")"
   ]
  },
  {
   "cell_type": "code",
   "execution_count": 2,
   "id": "6a7f3487",
   "metadata": {},
   "outputs": [],
   "source": [
    "driver=webdriver.Chrome(r'C:\\Users\\lenovo\\Downloads\\chromedriver_win32 (4)\\chromedriver.exe')"
   ]
  },
  {
   "cell_type": "code",
   "execution_count": 3,
   "id": "e8b9dbc3",
   "metadata": {},
   "outputs": [],
   "source": [
    "url='https://www.yatra.com/flight-schedule/delhi-to-mumbai-flights.html'\n",
    "driver.get(url)"
   ]
  },
  {
   "cell_type": "code",
   "execution_count": 4,
   "id": "92283d02",
   "metadata": {},
   "outputs": [],
   "source": [
    "airline_name=[]\n",
    "date_of_journey=[] \n",
    "source=[]\n",
    "destination=[] \n",
    "route=[] \n",
    "departure_time=[] \n",
    "arrival_time=[] \n",
    "duration=[]\n",
    "total_stops=[]\n",
    "price=[]"
   ]
  },
  {
   "cell_type": "code",
   "execution_count": 9,
   "id": "fadb6c2e",
   "metadata": {},
   "outputs": [
    {
     "data": {
      "text/plain": [
       "['Tue 2022 1 Feb']"
      ]
     },
     "execution_count": 9,
     "metadata": {},
     "output_type": "execute_result"
    }
   ],
   "source": [
    "date_of_journey=[]\n",
    "for x in driver.find_elements_by_xpath('//div[@class=\"day-li text-center cursor-pointer pr active font-primary-color\"]/p[1]'):\n",
    "    date_of_journey.append(x.text.replace(\",\",\" 2022\"))\n",
    "date_of_journey"
   ]
  },
  {
   "cell_type": "code",
   "execution_count": 7,
   "id": "b7cbe98e",
   "metadata": {},
   "outputs": [],
   "source": [
    "for a in driver.find_elements_by_xpath('//span[@class=\"i-b text ellipsis\"][1]'):\n",
    "    airline_name.append(a.text.replace(\"/n\",\",\"))\n",
    "for b in driver.find_elements_by_xpath('//div[@class=\"i-b col-4 no-wrap text-right dtime col-3\"]/p'):\n",
    "    source.append(b.text)\n",
    "for c in driver.find_elements_by_xpath('//div[@class=\"i-b pdd-0 text-left atime col-5\"]/p[2]'):\n",
    "    destination.append(c.text)\n",
    "#for d in driver.find_elements_by_xpath(''):\n",
    "   # route.append(d.text)\n",
    "for e in driver.find_elements_by_xpath('//div[@class=\"i-b col-4 no-wrap text-right dtime col-3\"]/div/div'):\n",
    "    departure_time.append(e.text)\n",
    "for f in driver.find_elements_by_xpath('//div[@class=\"i-b pdd-0 text-left atime col-5\"]/p[1]'):\n",
    "    arrival_time.append(f.text.replace(\"/n\",\",\"))\n",
    "for g in driver.find_elements_by_xpath('//div[@class=\"stop-cont pl-13\"]/p'):\n",
    "    duration.append(g.text)\n",
    "for h in driver.find_elements_by_xpath('//div[@class=\" font-lightgrey fs-10 tipsy i-b fs-10\"]/span'):\n",
    "    total_stops.append(h.text)\n",
    "for i in driver.find_elements_by_xpath('//div[@class=\"i-b tipsy fare-summary-tooltip fs-18\"]'):\n",
    "    price.append(i.text)"
   ]
  },
  {
   "cell_type": "code",
   "execution_count": 14,
   "id": "6cf2c0a7",
   "metadata": {},
   "outputs": [
    {
     "data": {
      "text/plain": [
       "119"
      ]
     },
     "execution_count": 14,
     "metadata": {},
     "output_type": "execute_result"
    }
   ],
   "source": [
    "date_of_journey0 = []\n",
    "date_of_journey0.extend([\"1/2/2022\" for i in range(119)])\n",
    "len(date_of_journey0)"
   ]
  },
  {
   "cell_type": "code",
   "execution_count": 15,
   "id": "7b9e5d11",
   "metadata": {},
   "outputs": [
    {
     "name": "stdout",
     "output_type": "stream",
     "text": [
      "['1/2/2022', '1/2/2022', '1/2/2022', '1/2/2022', '1/2/2022', '1/2/2022', '1/2/2022', '1/2/2022', '1/2/2022', '1/2/2022', '1/2/2022', '1/2/2022', '1/2/2022', '1/2/2022', '1/2/2022', '1/2/2022', '1/2/2022', '1/2/2022', '1/2/2022', '1/2/2022', '1/2/2022', '1/2/2022', '1/2/2022', '1/2/2022', '1/2/2022', '1/2/2022', '1/2/2022', '1/2/2022', '1/2/2022', '1/2/2022', '1/2/2022', '1/2/2022', '1/2/2022', '1/2/2022', '1/2/2022', '1/2/2022', '1/2/2022', '1/2/2022', '1/2/2022', '1/2/2022', '1/2/2022', '1/2/2022', '1/2/2022', '1/2/2022', '1/2/2022', '1/2/2022', '1/2/2022', '1/2/2022', '1/2/2022', '1/2/2022', '1/2/2022', '1/2/2022', '1/2/2022', '1/2/2022', '1/2/2022', '1/2/2022', '1/2/2022', '1/2/2022', '1/2/2022', '1/2/2022', '1/2/2022', '1/2/2022', '1/2/2022', '1/2/2022', '1/2/2022', '1/2/2022', '1/2/2022', '1/2/2022', '1/2/2022', '1/2/2022', '1/2/2022', '1/2/2022', '1/2/2022', '1/2/2022', '1/2/2022', '1/2/2022', '1/2/2022', '1/2/2022', '1/2/2022', '1/2/2022', '1/2/2022', '1/2/2022', '1/2/2022', '1/2/2022', '1/2/2022', '1/2/2022', '1/2/2022', '1/2/2022', '1/2/2022', '1/2/2022', '1/2/2022', '1/2/2022', '1/2/2022', '1/2/2022', '1/2/2022', '1/2/2022', '1/2/2022', '1/2/2022', '1/2/2022', '1/2/2022', '1/2/2022', '1/2/2022', '1/2/2022', '1/2/2022', '1/2/2022', '1/2/2022', '1/2/2022', '1/2/2022', '1/2/2022', '1/2/2022', '1/2/2022', '1/2/2022', '1/2/2022', '1/2/2022', '1/2/2022', '1/2/2022', '1/2/2022', '1/2/2022', '1/2/2022']\n"
     ]
    }
   ],
   "source": [
    "#date_of_journey.extend(date_of_journey0)\n",
    "print(date_of_journey0)"
   ]
  },
  {
   "cell_type": "code",
   "execution_count": 16,
   "id": "29210c8d",
   "metadata": {},
   "outputs": [
    {
     "data": {
      "text/plain": [
       "119"
      ]
     },
     "execution_count": 16,
     "metadata": {},
     "output_type": "execute_result"
    }
   ],
   "source": [
    "len(airline_name)"
   ]
  },
  {
   "cell_type": "code",
   "execution_count": 17,
   "id": "27036b32",
   "metadata": {},
   "outputs": [
    {
     "data": {
      "text/plain": [
       "119"
      ]
     },
     "execution_count": 17,
     "metadata": {},
     "output_type": "execute_result"
    }
   ],
   "source": [
    "len(source)"
   ]
  },
  {
   "cell_type": "code",
   "execution_count": 18,
   "id": "5d822e77",
   "metadata": {},
   "outputs": [
    {
     "data": {
      "text/plain": [
       "119"
      ]
     },
     "execution_count": 18,
     "metadata": {},
     "output_type": "execute_result"
    }
   ],
   "source": [
    "len(destination)"
   ]
  },
  {
   "cell_type": "code",
   "execution_count": 19,
   "id": "c19b3ecb",
   "metadata": {},
   "outputs": [
    {
     "data": {
      "text/plain": [
       "119"
      ]
     },
     "execution_count": 19,
     "metadata": {},
     "output_type": "execute_result"
    }
   ],
   "source": [
    "len(departure_time)"
   ]
  },
  {
   "cell_type": "code",
   "execution_count": 20,
   "id": "003694b7",
   "metadata": {},
   "outputs": [
    {
     "data": {
      "text/plain": [
       "119"
      ]
     },
     "execution_count": 20,
     "metadata": {},
     "output_type": "execute_result"
    }
   ],
   "source": [
    "len(arrival_time)"
   ]
  },
  {
   "cell_type": "code",
   "execution_count": 21,
   "id": "d145a1b5",
   "metadata": {},
   "outputs": [
    {
     "data": {
      "text/plain": [
       "119"
      ]
     },
     "execution_count": 21,
     "metadata": {},
     "output_type": "execute_result"
    }
   ],
   "source": [
    "len(duration)"
   ]
  },
  {
   "cell_type": "code",
   "execution_count": 22,
   "id": "b8030def",
   "metadata": {},
   "outputs": [
    {
     "data": {
      "text/plain": [
       "119"
      ]
     },
     "execution_count": 22,
     "metadata": {},
     "output_type": "execute_result"
    }
   ],
   "source": [
    "len(total_stops)"
   ]
  },
  {
   "cell_type": "code",
   "execution_count": 23,
   "id": "67d68f9d",
   "metadata": {},
   "outputs": [
    {
     "data": {
      "text/plain": [
       "119"
      ]
     },
     "execution_count": 23,
     "metadata": {},
     "output_type": "execute_result"
    }
   ],
   "source": [
    "len(price)"
   ]
  },
  {
   "cell_type": "code",
   "execution_count": 24,
   "id": "4325da2b",
   "metadata": {},
   "outputs": [
    {
     "data": {
      "text/plain": [
       "119"
      ]
     },
     "execution_count": 24,
     "metadata": {},
     "output_type": "execute_result"
    }
   ],
   "source": [
    "len(price)"
   ]
  },
  {
   "cell_type": "code",
   "execution_count": 63,
   "id": "d7174afb",
   "metadata": {},
   "outputs": [],
   "source": [
    "airline_name1=[]\n",
    "date_of_journey1=[] \n",
    "source1=[]\n",
    "destination1=[] \n",
    "route1=[] \n",
    "departure_time1=[] \n",
    "arrival_time1=[] \n",
    "duration1=[]\n",
    "total_stops1=[]\n",
    "price1=[]"
   ]
  },
  {
   "cell_type": "code",
   "execution_count": 26,
   "id": "b84a791f",
   "metadata": {},
   "outputs": [
    {
     "data": {
      "text/plain": [
       "['Wed, 2 Feb']"
      ]
     },
     "execution_count": 26,
     "metadata": {},
     "output_type": "execute_result"
    }
   ],
   "source": [
    "for x in driver.find_elements_by_xpath('//div[@class=\"day-li text-center cursor-pointer pr active font-primary-color\"]/p[1]'):\n",
    "    date_of_journey1.append(x.text)\n",
    "date_of_journey1"
   ]
  },
  {
   "cell_type": "code",
   "execution_count": 152,
   "id": "9833f805",
   "metadata": {},
   "outputs": [
    {
     "name": "stdout",
     "output_type": "stream",
     "text": [
      "132\n",
      "['2/2/2022', '2/2/2022', '2/2/2022', '2/2/2022', '2/2/2022', '2/2/2022', '2/2/2022', '2/2/2022', '2/2/2022', '2/2/2022', '2/2/2022', '2/2/2022', '2/2/2022', '2/2/2022', '2/2/2022', '2/2/2022', '2/2/2022', '2/2/2022', '2/2/2022', '2/2/2022', '2/2/2022', '2/2/2022', '2/2/2022', '2/2/2022', '2/2/2022', '2/2/2022', '2/2/2022', '2/2/2022', '2/2/2022', '2/2/2022', '2/2/2022', '2/2/2022', '2/2/2022', '2/2/2022', '2/2/2022', '2/2/2022', '2/2/2022', '2/2/2022', '2/2/2022', '2/2/2022', '2/2/2022', '2/2/2022', '2/2/2022', '2/2/2022', '2/2/2022', '2/2/2022', '2/2/2022', '2/2/2022', '2/2/2022', '2/2/2022', '2/2/2022', '2/2/2022', '2/2/2022', '2/2/2022', '2/2/2022', '2/2/2022', '2/2/2022', '2/2/2022', '2/2/2022', '2/2/2022', '2/2/2022', '2/2/2022', '2/2/2022', '2/2/2022', '2/2/2022', '2/2/2022', '2/2/2022', '2/2/2022', '2/2/2022', '2/2/2022', '2/2/2022', '2/2/2022', '2/2/2022', '2/2/2022', '2/2/2022', '2/2/2022', '2/2/2022', '2/2/2022', '2/2/2022', '2/2/2022', '2/2/2022', '2/2/2022', '2/2/2022', '2/2/2022', '2/2/2022', '2/2/2022', '2/2/2022', '2/2/2022', '2/2/2022', '2/2/2022', '2/2/2022', '2/2/2022', '2/2/2022', '2/2/2022', '2/2/2022', '2/2/2022', '2/2/2022', '2/2/2022', '2/2/2022', '2/2/2022', '2/2/2022', '2/2/2022', '2/2/2022', '2/2/2022', '2/2/2022', '2/2/2022', '2/2/2022', '2/2/2022', '2/2/2022', '2/2/2022', '2/2/2022', '2/2/2022', '2/2/2022', '2/2/2022', '2/2/2022', '2/2/2022', '2/2/2022', '2/2/2022', '2/2/2022', '2/2/2022', '2/2/2022', '2/2/2022', '2/2/2022', '2/2/2022', '2/2/2022', '2/2/2022', '2/2/2022', '2/2/2022', '2/2/2022', '2/2/2022', '2/2/2022', '2/2/2022']\n"
     ]
    }
   ],
   "source": [
    "date_of_journey10 = []\n",
    "date_of_journey10.extend([\"2/2/2022\" for i in range(132)])\n",
    "print(len(date_of_journey10))\n",
    "#date_of_journey1.extend(date_of_journey0)\n",
    "print(date_of_journey10)"
   ]
  },
  {
   "cell_type": "code",
   "execution_count": 64,
   "id": "f230c061",
   "metadata": {},
   "outputs": [],
   "source": [
    "for a in driver.find_elements_by_xpath('//span[@class=\"i-b text ellipsis\"][1]'):\n",
    "    airline_name1.append(a.text.replace(\"/n\",\",\"))\n",
    "for b in driver.find_elements_by_xpath('//div[@class=\"i-b col-4 no-wrap text-right dtime col-3\"]/p'):\n",
    "    source1.append(b.text)\n",
    "for c in driver.find_elements_by_xpath('//div[@class=\"i-b pdd-0 text-left atime col-5\"]/p[2]'):\n",
    "    destination1.append(c.text)\n",
    "#for d in driver.find_elements_by_xpath(''):\n",
    "   # route.append(d.text)\n",
    "for e in driver.find_elements_by_xpath('//div[@class=\"i-b col-4 no-wrap text-right dtime col-3\"]/div/div'):\n",
    "    departure_time1.append(e.text.replace(\"/n\",\",\"))\n",
    "for f in driver.find_elements_by_xpath('//div[@class=\"i-b pdd-0 text-left atime col-5\"]/p[1]'):\n",
    "    arrival_time1.append(f.text.replace(\"/n\",\",\"))\n",
    "for g in driver.find_elements_by_xpath('//div[@class=\"stop-cont pl-13\"]/p'):\n",
    "    duration1.append(g.text)\n",
    "for h in driver.find_elements_by_xpath('//div[@class=\" font-lightgrey fs-10 tipsy i-b fs-10\"]/span'):\n",
    "    total_stops1.append(h.text)\n",
    "for i in driver.find_elements_by_xpath('//div[@class=\"i-b tipsy fare-summary-tooltip fs-18\"]'):\n",
    "    price1.append(i.text)"
   ]
  },
  {
   "cell_type": "code",
   "execution_count": 65,
   "id": "fd08ca4e",
   "metadata": {},
   "outputs": [
    {
     "data": {
      "text/plain": [
       "132"
      ]
     },
     "execution_count": 65,
     "metadata": {},
     "output_type": "execute_result"
    }
   ],
   "source": [
    "len(airline_name1)"
   ]
  },
  {
   "cell_type": "code",
   "execution_count": 66,
   "id": "b52c2b81",
   "metadata": {},
   "outputs": [
    {
     "data": {
      "text/plain": [
       "132"
      ]
     },
     "execution_count": 66,
     "metadata": {},
     "output_type": "execute_result"
    }
   ],
   "source": [
    "len(source1)"
   ]
  },
  {
   "cell_type": "code",
   "execution_count": 67,
   "id": "0cfe1ceb",
   "metadata": {},
   "outputs": [
    {
     "data": {
      "text/plain": [
       "132"
      ]
     },
     "execution_count": 67,
     "metadata": {},
     "output_type": "execute_result"
    }
   ],
   "source": [
    "len(destination1)"
   ]
  },
  {
   "cell_type": "code",
   "execution_count": 68,
   "id": "d465db75",
   "metadata": {},
   "outputs": [
    {
     "data": {
      "text/plain": [
       "132"
      ]
     },
     "execution_count": 68,
     "metadata": {},
     "output_type": "execute_result"
    }
   ],
   "source": [
    "len(departure_time1)"
   ]
  },
  {
   "cell_type": "code",
   "execution_count": 69,
   "id": "2c8cb2d3",
   "metadata": {},
   "outputs": [
    {
     "data": {
      "text/plain": [
       "132"
      ]
     },
     "execution_count": 69,
     "metadata": {},
     "output_type": "execute_result"
    }
   ],
   "source": [
    "len(arrival_time1)"
   ]
  },
  {
   "cell_type": "code",
   "execution_count": 70,
   "id": "f7315904",
   "metadata": {},
   "outputs": [
    {
     "data": {
      "text/plain": [
       "132"
      ]
     },
     "execution_count": 70,
     "metadata": {},
     "output_type": "execute_result"
    }
   ],
   "source": [
    "len(duration1)"
   ]
  },
  {
   "cell_type": "code",
   "execution_count": 71,
   "id": "db52fcad",
   "metadata": {},
   "outputs": [
    {
     "data": {
      "text/plain": [
       "132"
      ]
     },
     "execution_count": 71,
     "metadata": {},
     "output_type": "execute_result"
    }
   ],
   "source": [
    "len(total_stops1)"
   ]
  },
  {
   "cell_type": "code",
   "execution_count": 72,
   "id": "a21d9907",
   "metadata": {},
   "outputs": [
    {
     "data": {
      "text/plain": [
       "132"
      ]
     },
     "execution_count": 72,
     "metadata": {},
     "output_type": "execute_result"
    }
   ],
   "source": [
    "len(price1)"
   ]
  },
  {
   "cell_type": "code",
   "execution_count": 52,
   "id": "93c059e6",
   "metadata": {},
   "outputs": [],
   "source": [
    "airline_name2=[]\n",
    "date_of_journey2=[] \n",
    "source2=[]\n",
    "destination2=[] \n",
    "route2=[] \n",
    "departure_time2=[] \n",
    "arrival_time2=[] \n",
    "duration2=[]\n",
    "total_stops2=[]\n",
    "price2=[]"
   ]
  },
  {
   "cell_type": "code",
   "execution_count": 38,
   "id": "6d6fc1c6",
   "metadata": {},
   "outputs": [
    {
     "data": {
      "text/plain": [
       "['Thu, 3 Feb']"
      ]
     },
     "execution_count": 38,
     "metadata": {},
     "output_type": "execute_result"
    }
   ],
   "source": [
    "for x in driver.find_elements_by_xpath('//div[@class=\"day-li text-center cursor-pointer pr active font-primary-color\"]/p[1]'):\n",
    "    date_of_journey2.append(x.text)\n",
    "date_of_journey2"
   ]
  },
  {
   "cell_type": "code",
   "execution_count": 79,
   "id": "31ff72ce",
   "metadata": {},
   "outputs": [
    {
     "name": "stdout",
     "output_type": "stream",
     "text": [
      "122\n",
      "['3/2/2022', '3/2/2022', '3/2/2022', '3/2/2022', '3/2/2022', '3/2/2022', '3/2/2022', '3/2/2022', '3/2/2022', '3/2/2022', '3/2/2022', '3/2/2022', '3/2/2022', '3/2/2022', '3/2/2022', '3/2/2022', '3/2/2022', '3/2/2022', '3/2/2022', '3/2/2022', '3/2/2022', '3/2/2022', '3/2/2022', '3/2/2022', '3/2/2022', '3/2/2022', '3/2/2022', '3/2/2022', '3/2/2022', '3/2/2022', '3/2/2022', '3/2/2022', '3/2/2022', '3/2/2022', '3/2/2022', '3/2/2022', '3/2/2022', '3/2/2022', '3/2/2022', '3/2/2022', '3/2/2022', '3/2/2022', '3/2/2022', '3/2/2022', '3/2/2022', '3/2/2022', '3/2/2022', '3/2/2022', '3/2/2022', '3/2/2022', '3/2/2022', '3/2/2022', '3/2/2022', '3/2/2022', '3/2/2022', '3/2/2022', '3/2/2022', '3/2/2022', '3/2/2022', '3/2/2022', '3/2/2022', '3/2/2022', '3/2/2022', '3/2/2022', '3/2/2022', '3/2/2022', '3/2/2022', '3/2/2022', '3/2/2022', '3/2/2022', '3/2/2022', '3/2/2022', '3/2/2022', '3/2/2022', '3/2/2022', '3/2/2022', '3/2/2022', '3/2/2022', '3/2/2022', '3/2/2022', '3/2/2022', '3/2/2022', '3/2/2022', '3/2/2022', '3/2/2022', '3/2/2022', '3/2/2022', '3/2/2022', '3/2/2022', '3/2/2022', '3/2/2022', '3/2/2022', '3/2/2022', '3/2/2022', '3/2/2022', '3/2/2022', '3/2/2022', '3/2/2022', '3/2/2022', '3/2/2022', '3/2/2022', '3/2/2022', '3/2/2022', '3/2/2022', '3/2/2022', '3/2/2022', '3/2/2022', '3/2/2022', '3/2/2022', '3/2/2022', '3/2/2022', '3/2/2022', '3/2/2022', '3/2/2022', '3/2/2022', '3/2/2022', '3/2/2022', '3/2/2022', '3/2/2022', '3/2/2022', '3/2/2022', '3/2/2022']\n"
     ]
    }
   ],
   "source": [
    "date_of_journey20 = []\n",
    "date_of_journey20.extend([\"3/2/2022\" for i in range(122)])\n",
    "print(len(date_of_journey20))\n",
    "#date_of_journey2.extend(date_of_journey0)\n",
    "print(date_of_journey20)"
   ]
  },
  {
   "cell_type": "code",
   "execution_count": 53,
   "id": "82dee453",
   "metadata": {},
   "outputs": [],
   "source": [
    "for a in driver.find_elements_by_xpath('//span[@class=\"i-b text ellipsis\"][1]'):\n",
    "    airline_name2.append(a.text.replace(\"/n\",\",\"))\n",
    "for b in driver.find_elements_by_xpath('//div[@class=\"i-b col-4 no-wrap text-right dtime col-3\"]/p'):\n",
    "    source2.append(b.text)\n",
    "for c in driver.find_elements_by_xpath('//div[@class=\"i-b pdd-0 text-left atime col-5\"]/p[2]'):\n",
    "    destination2.append(c.text)\n",
    "#for d in driver.find_elements_by_xpath(''):\n",
    "   # route.append(d.text)\n",
    "for e in driver.find_elements_by_xpath('//div[@class=\"i-b col-4 no-wrap text-right dtime col-3\"]/div/div'):\n",
    "    departure_time2.append(e.text.replace(\"/n\",\",\"))\n",
    "for f in driver.find_elements_by_xpath('//div[@class=\"i-b pdd-0 text-left atime col-5\"]/p[1]'):\n",
    "    arrival_time2.append(f.text.replace(\"/n\",\",\"))\n",
    "for g in driver.find_elements_by_xpath('//div[@class=\"stop-cont pl-13\"]/p'):\n",
    "    duration2.append(g.text)\n",
    "for h in driver.find_elements_by_xpath('//div[@class=\" font-lightgrey fs-10 tipsy i-b fs-10\"]/span'):\n",
    "    total_stops2.append(h.text)\n",
    "for i in driver.find_elements_by_xpath('//div[@class=\"i-b tipsy fare-summary-tooltip fs-18\"]'):\n",
    "    price2.append(i.text)"
   ]
  },
  {
   "cell_type": "code",
   "execution_count": 54,
   "id": "dd8f253a",
   "metadata": {},
   "outputs": [
    {
     "data": {
      "text/plain": [
       "122"
      ]
     },
     "execution_count": 54,
     "metadata": {},
     "output_type": "execute_result"
    }
   ],
   "source": [
    "len(airline_name2)"
   ]
  },
  {
   "cell_type": "code",
   "execution_count": 55,
   "id": "47632eb3",
   "metadata": {},
   "outputs": [
    {
     "data": {
      "text/plain": [
       "122"
      ]
     },
     "execution_count": 55,
     "metadata": {},
     "output_type": "execute_result"
    }
   ],
   "source": [
    "len(source2)"
   ]
  },
  {
   "cell_type": "code",
   "execution_count": 56,
   "id": "aae5601e",
   "metadata": {},
   "outputs": [
    {
     "data": {
      "text/plain": [
       "122"
      ]
     },
     "execution_count": 56,
     "metadata": {},
     "output_type": "execute_result"
    }
   ],
   "source": [
    "len(destination2)"
   ]
  },
  {
   "cell_type": "code",
   "execution_count": 57,
   "id": "e81ca4f4",
   "metadata": {},
   "outputs": [
    {
     "data": {
      "text/plain": [
       "122"
      ]
     },
     "execution_count": 57,
     "metadata": {},
     "output_type": "execute_result"
    }
   ],
   "source": [
    "len(departure_time2)"
   ]
  },
  {
   "cell_type": "code",
   "execution_count": 58,
   "id": "a1c8a9c7",
   "metadata": {},
   "outputs": [
    {
     "data": {
      "text/plain": [
       "122"
      ]
     },
     "execution_count": 58,
     "metadata": {},
     "output_type": "execute_result"
    }
   ],
   "source": [
    "len(arrival_time2)"
   ]
  },
  {
   "cell_type": "code",
   "execution_count": 59,
   "id": "5200c6fb",
   "metadata": {},
   "outputs": [
    {
     "data": {
      "text/plain": [
       "122"
      ]
     },
     "execution_count": 59,
     "metadata": {},
     "output_type": "execute_result"
    }
   ],
   "source": [
    "len(duration2)"
   ]
  },
  {
   "cell_type": "code",
   "execution_count": 60,
   "id": "4980f9a5",
   "metadata": {},
   "outputs": [
    {
     "data": {
      "text/plain": [
       "122"
      ]
     },
     "execution_count": 60,
     "metadata": {},
     "output_type": "execute_result"
    }
   ],
   "source": [
    "len(total_stops2)"
   ]
  },
  {
   "cell_type": "code",
   "execution_count": 48,
   "id": "faf321ba",
   "metadata": {},
   "outputs": [
    {
     "data": {
      "text/plain": [
       "122"
      ]
     },
     "execution_count": 48,
     "metadata": {},
     "output_type": "execute_result"
    }
   ],
   "source": [
    "len(price2)"
   ]
  },
  {
   "cell_type": "code",
   "execution_count": 80,
   "id": "3d220713",
   "metadata": {},
   "outputs": [
    {
     "data": {
      "text/plain": [
       "['Fri, 4 Feb']"
      ]
     },
     "execution_count": 80,
     "metadata": {},
     "output_type": "execute_result"
    }
   ],
   "source": [
    "date_of_journey3=[] \n",
    "for x in driver.find_elements_by_xpath('//div[@class=\"day-li text-center cursor-pointer pr active font-primary-color\"]/p[1]'):\n",
    "    date_of_journey3.append(x.text)\n",
    "date_of_journey3"
   ]
  },
  {
   "cell_type": "code",
   "execution_count": 83,
   "id": "ccb6ca19",
   "metadata": {},
   "outputs": [
    {
     "name": "stdout",
     "output_type": "stream",
     "text": [
      "125\n",
      "['4/2/2022', '4/2/2022', '4/2/2022', '4/2/2022', '4/2/2022', '4/2/2022', '4/2/2022', '4/2/2022', '4/2/2022', '4/2/2022', '4/2/2022', '4/2/2022', '4/2/2022', '4/2/2022', '4/2/2022', '4/2/2022', '4/2/2022', '4/2/2022', '4/2/2022', '4/2/2022', '4/2/2022', '4/2/2022', '4/2/2022', '4/2/2022', '4/2/2022', '4/2/2022', '4/2/2022', '4/2/2022', '4/2/2022', '4/2/2022', '4/2/2022', '4/2/2022', '4/2/2022', '4/2/2022', '4/2/2022', '4/2/2022', '4/2/2022', '4/2/2022', '4/2/2022', '4/2/2022', '4/2/2022', '4/2/2022', '4/2/2022', '4/2/2022', '4/2/2022', '4/2/2022', '4/2/2022', '4/2/2022', '4/2/2022', '4/2/2022', '4/2/2022', '4/2/2022', '4/2/2022', '4/2/2022', '4/2/2022', '4/2/2022', '4/2/2022', '4/2/2022', '4/2/2022', '4/2/2022', '4/2/2022', '4/2/2022', '4/2/2022', '4/2/2022', '4/2/2022', '4/2/2022', '4/2/2022', '4/2/2022', '4/2/2022', '4/2/2022', '4/2/2022', '4/2/2022', '4/2/2022', '4/2/2022', '4/2/2022', '4/2/2022', '4/2/2022', '4/2/2022', '4/2/2022', '4/2/2022', '4/2/2022', '4/2/2022', '4/2/2022', '4/2/2022', '4/2/2022', '4/2/2022', '4/2/2022', '4/2/2022', '4/2/2022', '4/2/2022', '4/2/2022', '4/2/2022', '4/2/2022', '4/2/2022', '4/2/2022', '4/2/2022', '4/2/2022', '4/2/2022', '4/2/2022', '4/2/2022', '4/2/2022', '4/2/2022', '4/2/2022', '4/2/2022', '4/2/2022', '4/2/2022', '4/2/2022', '4/2/2022', '4/2/2022', '4/2/2022', '4/2/2022', '4/2/2022', '4/2/2022', '4/2/2022', '4/2/2022', '4/2/2022', '4/2/2022', '4/2/2022', '4/2/2022', '4/2/2022', '4/2/2022', '4/2/2022', '4/2/2022', '4/2/2022', '4/2/2022']\n"
     ]
    }
   ],
   "source": [
    "date_of_journey30 = []\n",
    "date_of_journey30.extend([\"4/2/2022\" for i in range(125)])\n",
    "print(len(date_of_journey30))\n",
    "#date_of_journey3.extend(date_of_journey0)\n",
    "print(date_of_journey30)"
   ]
  },
  {
   "cell_type": "code",
   "execution_count": 81,
   "id": "7e615ae7",
   "metadata": {},
   "outputs": [],
   "source": [
    "airline_name3=[]\n",
    "\n",
    "source3=[]\n",
    "destination3=[] \n",
    "route3=[] \n",
    "departure_time3=[] \n",
    "arrival_time3=[] \n",
    "duration3=[]\n",
    "total_stops3=[]\n",
    "price3=[]\n",
    "\n",
    "for a in driver.find_elements_by_xpath('//span[@class=\"i-b text ellipsis\"][1]'):\n",
    "    airline_name3.append(a.text.replace(\"/n\",\",\"))\n",
    "for b in driver.find_elements_by_xpath('//div[@class=\"i-b col-4 no-wrap text-right dtime col-3\"]/p'):\n",
    "    source3.append(b.text)\n",
    "for c in driver.find_elements_by_xpath('//div[@class=\"i-b pdd-0 text-left atime col-5\"]/p[2]'):\n",
    "    destination3.append(c.text)\n",
    "#for d in driver.find_elements_by_xpath(''):\n",
    "   # route.append(d.text)\n",
    "for e in driver.find_elements_by_xpath('//div[@class=\"i-b col-4 no-wrap text-right dtime col-3\"]/div/div'):\n",
    "    departure_time3.append(e.text.replace(\"/n\",\",\"))\n",
    "for f in driver.find_elements_by_xpath('//div[@class=\"i-b pdd-0 text-left atime col-5\"]/p[1]'):\n",
    "    arrival_time3.append(f.text.replace(\"/n\",\",\"))\n",
    "for g in driver.find_elements_by_xpath('//div[@class=\"stop-cont pl-13\"]/p'):\n",
    "    duration3.append(g.text)\n",
    "for h in driver.find_elements_by_xpath('//div[@class=\" font-lightgrey fs-10 tipsy i-b fs-10\"]/span'):\n",
    "    total_stops3.append(h.text)\n",
    "for i in driver.find_elements_by_xpath('//div[@class=\"i-b tipsy fare-summary-tooltip fs-18\"]'):\n",
    "    price3.append(i.text)"
   ]
  },
  {
   "cell_type": "code",
   "execution_count": 82,
   "id": "21e0daac",
   "metadata": {},
   "outputs": [
    {
     "name": "stdout",
     "output_type": "stream",
     "text": [
      "125\n",
      "125\n",
      "125\n",
      "125\n",
      "125\n",
      "125\n",
      "125\n",
      "125\n"
     ]
    }
   ],
   "source": [
    "print(len(airline_name3))\n",
    "\n",
    "print(len(source3))\n",
    "print(len(destination3)) \n",
    "#print(len(route3))\n",
    "print(len(departure_time3)) \n",
    "print(len(arrival_time3)) \n",
    "print(len(duration3))\n",
    "print(len(total_stops3))\n",
    "print(len(price3))"
   ]
  },
  {
   "cell_type": "code",
   "execution_count": 84,
   "id": "f3bcc959",
   "metadata": {},
   "outputs": [
    {
     "data": {
      "text/plain": [
       "['Sat, 5 Feb']"
      ]
     },
     "execution_count": 84,
     "metadata": {},
     "output_type": "execute_result"
    }
   ],
   "source": [
    "date_of_journey4=[] \n",
    "for x in driver.find_elements_by_xpath('//div[@class=\"day-li text-center cursor-pointer pr active font-primary-color\"]/p[1]'):\n",
    "    date_of_journey4.append(x.text)\n",
    "date_of_journey4"
   ]
  },
  {
   "cell_type": "code",
   "execution_count": 87,
   "id": "42a1f10f",
   "metadata": {},
   "outputs": [
    {
     "name": "stdout",
     "output_type": "stream",
     "text": [
      "127\n",
      "['5/2/2022', '5/2/2022', '5/2/2022', '5/2/2022', '5/2/2022', '5/2/2022', '5/2/2022', '5/2/2022', '5/2/2022', '5/2/2022', '5/2/2022', '5/2/2022', '5/2/2022', '5/2/2022', '5/2/2022', '5/2/2022', '5/2/2022', '5/2/2022', '5/2/2022', '5/2/2022', '5/2/2022', '5/2/2022', '5/2/2022', '5/2/2022', '5/2/2022', '5/2/2022', '5/2/2022', '5/2/2022', '5/2/2022', '5/2/2022', '5/2/2022', '5/2/2022', '5/2/2022', '5/2/2022', '5/2/2022', '5/2/2022', '5/2/2022', '5/2/2022', '5/2/2022', '5/2/2022', '5/2/2022', '5/2/2022', '5/2/2022', '5/2/2022', '5/2/2022', '5/2/2022', '5/2/2022', '5/2/2022', '5/2/2022', '5/2/2022', '5/2/2022', '5/2/2022', '5/2/2022', '5/2/2022', '5/2/2022', '5/2/2022', '5/2/2022', '5/2/2022', '5/2/2022', '5/2/2022', '5/2/2022', '5/2/2022', '5/2/2022', '5/2/2022', '5/2/2022', '5/2/2022', '5/2/2022', '5/2/2022', '5/2/2022', '5/2/2022', '5/2/2022', '5/2/2022', '5/2/2022', '5/2/2022', '5/2/2022', '5/2/2022', '5/2/2022', '5/2/2022', '5/2/2022', '5/2/2022', '5/2/2022', '5/2/2022', '5/2/2022', '5/2/2022', '5/2/2022', '5/2/2022', '5/2/2022', '5/2/2022', '5/2/2022', '5/2/2022', '5/2/2022', '5/2/2022', '5/2/2022', '5/2/2022', '5/2/2022', '5/2/2022', '5/2/2022', '5/2/2022', '5/2/2022', '5/2/2022', '5/2/2022', '5/2/2022', '5/2/2022', '5/2/2022', '5/2/2022', '5/2/2022', '5/2/2022', '5/2/2022', '5/2/2022', '5/2/2022', '5/2/2022', '5/2/2022', '5/2/2022', '5/2/2022', '5/2/2022', '5/2/2022', '5/2/2022', '5/2/2022', '5/2/2022', '5/2/2022', '5/2/2022', '5/2/2022', '5/2/2022', '5/2/2022', '5/2/2022', '5/2/2022', '5/2/2022']\n"
     ]
    }
   ],
   "source": [
    "date_of_journey40 = []\n",
    "date_of_journey40.extend([\"5/2/2022\" for i in range(127)])\n",
    "print(len(date_of_journey40))\n",
    "#date_of_journey4.extend(date_of_journey0)\n",
    "print(date_of_journey40)"
   ]
  },
  {
   "cell_type": "code",
   "execution_count": 85,
   "id": "6088f243",
   "metadata": {},
   "outputs": [],
   "source": [
    "airline_name4=[]\n",
    "\n",
    "source4=[]\n",
    "destination4=[] \n",
    "route4=[] \n",
    "departure_time4=[] \n",
    "arrival_time4=[] \n",
    "duration4=[]\n",
    "total_stops4=[]\n",
    "price4=[]\n",
    "\n",
    "for a in driver.find_elements_by_xpath('//span[@class=\"i-b text ellipsis\"][1]'):\n",
    "    airline_name4.append(a.text.replace(\"/n\",\",\"))\n",
    "for b in driver.find_elements_by_xpath('//div[@class=\"i-b col-4 no-wrap text-right dtime col-3\"]/p'):\n",
    "    source4.append(b.text)\n",
    "for c in driver.find_elements_by_xpath('//div[@class=\"i-b pdd-0 text-left atime col-5\"]/p[2]'):\n",
    "    destination4.append(c.text)\n",
    "#for d in driver.find_elements_by_xpath(''):\n",
    "   # route.append(d.text)\n",
    "for e in driver.find_elements_by_xpath('//div[@class=\"i-b col-4 no-wrap text-right dtime col-3\"]/div/div'):\n",
    "    departure_time4.append(e.text.replace(\"/n\",\",\"))\n",
    "for f in driver.find_elements_by_xpath('//div[@class=\"i-b pdd-0 text-left atime col-5\"]/p[1]'):\n",
    "    arrival_time4.append(f.text.replace(\"/n\",\",\"))\n",
    "for g in driver.find_elements_by_xpath('//div[@class=\"stop-cont pl-13\"]/p'):\n",
    "    duration4.append(g.text)\n",
    "for h in driver.find_elements_by_xpath('//div[@class=\" font-lightgrey fs-10 tipsy i-b fs-10\"]/span'):\n",
    "    total_stops4.append(h.text)\n",
    "for i in driver.find_elements_by_xpath('//div[@class=\"i-b tipsy fare-summary-tooltip fs-18\"]'):\n",
    "    price4.append(i.text)"
   ]
  },
  {
   "cell_type": "code",
   "execution_count": 86,
   "id": "25e7c64c",
   "metadata": {},
   "outputs": [
    {
     "name": "stdout",
     "output_type": "stream",
     "text": [
      "127\n",
      "127\n",
      "127\n",
      "127\n",
      "127\n",
      "127\n",
      "127\n",
      "127\n"
     ]
    }
   ],
   "source": [
    "print(len(airline_name4))\n",
    "\n",
    "print(len(source4))\n",
    "print(len(destination4)) \n",
    "#print(len(route3))\n",
    "print(len(departure_time4)) \n",
    "print(len(arrival_time4)) \n",
    "print(len(duration4))\n",
    "print(len(total_stops4))\n",
    "print(len(price4))"
   ]
  },
  {
   "cell_type": "code",
   "execution_count": 88,
   "id": "e7980a72",
   "metadata": {},
   "outputs": [
    {
     "data": {
      "text/plain": [
       "['Sun, 6 Feb']"
      ]
     },
     "execution_count": 88,
     "metadata": {},
     "output_type": "execute_result"
    }
   ],
   "source": [
    "date_of_journey5=[] \n",
    "for x in driver.find_elements_by_xpath('//div[@class=\"day-li text-center cursor-pointer pr active font-primary-color\"]/p[1]'):\n",
    "    date_of_journey5.append(x.text)\n",
    "date_of_journey5"
   ]
  },
  {
   "cell_type": "code",
   "execution_count": 90,
   "id": "a44c86bb",
   "metadata": {},
   "outputs": [
    {
     "name": "stdout",
     "output_type": "stream",
     "text": [
      "142\n",
      "['6/2/2022', '6/2/2022', '6/2/2022', '6/2/2022', '6/2/2022', '6/2/2022', '6/2/2022', '6/2/2022', '6/2/2022', '6/2/2022', '6/2/2022', '6/2/2022', '6/2/2022', '6/2/2022', '6/2/2022', '6/2/2022', '6/2/2022', '6/2/2022', '6/2/2022', '6/2/2022', '6/2/2022', '6/2/2022', '6/2/2022', '6/2/2022', '6/2/2022', '6/2/2022', '6/2/2022', '6/2/2022', '6/2/2022', '6/2/2022', '6/2/2022', '6/2/2022', '6/2/2022', '6/2/2022', '6/2/2022', '6/2/2022', '6/2/2022', '6/2/2022', '6/2/2022', '6/2/2022', '6/2/2022', '6/2/2022', '6/2/2022', '6/2/2022', '6/2/2022', '6/2/2022', '6/2/2022', '6/2/2022', '6/2/2022', '6/2/2022', '6/2/2022', '6/2/2022', '6/2/2022', '6/2/2022', '6/2/2022', '6/2/2022', '6/2/2022', '6/2/2022', '6/2/2022', '6/2/2022', '6/2/2022', '6/2/2022', '6/2/2022', '6/2/2022', '6/2/2022', '6/2/2022', '6/2/2022', '6/2/2022', '6/2/2022', '6/2/2022', '6/2/2022', '6/2/2022', '6/2/2022', '6/2/2022', '6/2/2022', '6/2/2022', '6/2/2022', '6/2/2022', '6/2/2022', '6/2/2022', '6/2/2022', '6/2/2022', '6/2/2022', '6/2/2022', '6/2/2022', '6/2/2022', '6/2/2022', '6/2/2022', '6/2/2022', '6/2/2022', '6/2/2022', '6/2/2022', '6/2/2022', '6/2/2022', '6/2/2022', '6/2/2022', '6/2/2022', '6/2/2022', '6/2/2022', '6/2/2022', '6/2/2022', '6/2/2022', '6/2/2022', '6/2/2022', '6/2/2022', '6/2/2022', '6/2/2022', '6/2/2022', '6/2/2022', '6/2/2022', '6/2/2022', '6/2/2022', '6/2/2022', '6/2/2022', '6/2/2022', '6/2/2022', '6/2/2022', '6/2/2022', '6/2/2022', '6/2/2022', '6/2/2022', '6/2/2022', '6/2/2022', '6/2/2022', '6/2/2022', '6/2/2022', '6/2/2022', '6/2/2022', '6/2/2022', '6/2/2022', '6/2/2022', '6/2/2022', '6/2/2022', '6/2/2022', '6/2/2022', '6/2/2022', '6/2/2022', '6/2/2022', '6/2/2022', '6/2/2022', '6/2/2022', '6/2/2022']\n"
     ]
    }
   ],
   "source": [
    "date_of_journey50 = []\n",
    "date_of_journey50.extend([\"6/2/2022\" for i in range(142)])\n",
    "print(len(date_of_journey50))\n",
    "#date_of_journey5.extend(date_of_journey0)\n",
    "print(date_of_journey50)"
   ]
  },
  {
   "cell_type": "code",
   "execution_count": 89,
   "id": "31931690",
   "metadata": {},
   "outputs": [
    {
     "name": "stdout",
     "output_type": "stream",
     "text": [
      "142\n",
      "142\n",
      "142\n",
      "142\n",
      "142\n",
      "142\n",
      "142\n",
      "142\n"
     ]
    }
   ],
   "source": [
    "airline_name5=[]\n",
    "\n",
    "source5=[]\n",
    "destination5=[] \n",
    "#route4=[] \n",
    "departure_time5=[] \n",
    "arrival_time5=[] \n",
    "duration5=[]\n",
    "total_stops5=[]\n",
    "price5=[]\n",
    "\n",
    "for a in driver.find_elements_by_xpath('//span[@class=\"i-b text ellipsis\"][1]'):\n",
    "    airline_name5.append(a.text.replace(\"/n\",\",\"))\n",
    "for b in driver.find_elements_by_xpath('//div[@class=\"i-b col-4 no-wrap text-right dtime col-3\"]/p'):\n",
    "    source5.append(b.text)\n",
    "for c in driver.find_elements_by_xpath('//div[@class=\"i-b pdd-0 text-left atime col-5\"]/p[2]'):\n",
    "    destination5.append(c.text)\n",
    "#for d in driver.find_elements_by_xpath(''):\n",
    "   # route.append(d.text)\n",
    "for e in driver.find_elements_by_xpath('//div[@class=\"i-b col-4 no-wrap text-right dtime col-3\"]/div/div'):\n",
    "    departure_time5.append(e.text.replace(\"/n\",\",\"))\n",
    "for f in driver.find_elements_by_xpath('//div[@class=\"i-b pdd-0 text-left atime col-5\"]/p[1]'):\n",
    "    arrival_time5.append(f.text.replace(\"/n\",\",\"))\n",
    "for g in driver.find_elements_by_xpath('//div[@class=\"stop-cont pl-13\"]/p'):\n",
    "    duration5.append(g.text)\n",
    "for h in driver.find_elements_by_xpath('//div[@class=\" font-lightgrey fs-10 tipsy i-b fs-10\"]/span'):\n",
    "    total_stops5.append(h.text)\n",
    "for i in driver.find_elements_by_xpath('//div[@class=\"i-b tipsy fare-summary-tooltip fs-18\"]'):\n",
    "    price5.append(i.text)\n",
    "    \n",
    "    \n",
    "print(len(airline_name5))\n",
    "\n",
    "print(len(source5))\n",
    "print(len(destination5)) \n",
    "#print(len(route3))\n",
    "print(len(departure_time5)) \n",
    "print(len(arrival_time5)) \n",
    "print(len(duration5))\n",
    "print(len(total_stops5))\n",
    "print(len(price5))"
   ]
  },
  {
   "cell_type": "code",
   "execution_count": 92,
   "id": "1f3202ee",
   "metadata": {},
   "outputs": [],
   "source": [
    "time.sleep(1)\n",
    "        #clciking on second page for reviews\n",
    "driver.find_element_by_xpath('//li[@class=\"i-b scroll-elem text-center\"][12]').click()"
   ]
  },
  {
   "cell_type": "code",
   "execution_count": 93,
   "id": "a371d4cb",
   "metadata": {},
   "outputs": [
    {
     "data": {
      "text/plain": [
       "['Mon, 7 Feb']"
      ]
     },
     "execution_count": 93,
     "metadata": {},
     "output_type": "execute_result"
    }
   ],
   "source": [
    "date_of_journey6=[] \n",
    "for x in driver.find_elements_by_xpath('//div[@class=\"day-li text-center cursor-pointer pr active font-primary-color\"]/p[1]'):\n",
    "    date_of_journey6.append(x.text)\n",
    "date_of_journey6"
   ]
  },
  {
   "cell_type": "code",
   "execution_count": 95,
   "id": "1d683bd5",
   "metadata": {},
   "outputs": [
    {
     "name": "stdout",
     "output_type": "stream",
     "text": [
      "125\n",
      "['7/2/2022', '7/2/2022', '7/2/2022', '7/2/2022', '7/2/2022', '7/2/2022', '7/2/2022', '7/2/2022', '7/2/2022', '7/2/2022', '7/2/2022', '7/2/2022', '7/2/2022', '7/2/2022', '7/2/2022', '7/2/2022', '7/2/2022', '7/2/2022', '7/2/2022', '7/2/2022', '7/2/2022', '7/2/2022', '7/2/2022', '7/2/2022', '7/2/2022', '7/2/2022', '7/2/2022', '7/2/2022', '7/2/2022', '7/2/2022', '7/2/2022', '7/2/2022', '7/2/2022', '7/2/2022', '7/2/2022', '7/2/2022', '7/2/2022', '7/2/2022', '7/2/2022', '7/2/2022', '7/2/2022', '7/2/2022', '7/2/2022', '7/2/2022', '7/2/2022', '7/2/2022', '7/2/2022', '7/2/2022', '7/2/2022', '7/2/2022', '7/2/2022', '7/2/2022', '7/2/2022', '7/2/2022', '7/2/2022', '7/2/2022', '7/2/2022', '7/2/2022', '7/2/2022', '7/2/2022', '7/2/2022', '7/2/2022', '7/2/2022', '7/2/2022', '7/2/2022', '7/2/2022', '7/2/2022', '7/2/2022', '7/2/2022', '7/2/2022', '7/2/2022', '7/2/2022', '7/2/2022', '7/2/2022', '7/2/2022', '7/2/2022', '7/2/2022', '7/2/2022', '7/2/2022', '7/2/2022', '7/2/2022', '7/2/2022', '7/2/2022', '7/2/2022', '7/2/2022', '7/2/2022', '7/2/2022', '7/2/2022', '7/2/2022', '7/2/2022', '7/2/2022', '7/2/2022', '7/2/2022', '7/2/2022', '7/2/2022', '7/2/2022', '7/2/2022', '7/2/2022', '7/2/2022', '7/2/2022', '7/2/2022', '7/2/2022', '7/2/2022', '7/2/2022', '7/2/2022', '7/2/2022', '7/2/2022', '7/2/2022', '7/2/2022', '7/2/2022', '7/2/2022', '7/2/2022', '7/2/2022', '7/2/2022', '7/2/2022', '7/2/2022', '7/2/2022', '7/2/2022', '7/2/2022', '7/2/2022', '7/2/2022', '7/2/2022', '7/2/2022', '7/2/2022', '7/2/2022']\n"
     ]
    }
   ],
   "source": [
    "date_of_journey60 = []\n",
    "date_of_journey60.extend([\"7/2/2022\" for i in range(125)])\n",
    "print(len(date_of_journey60))\n",
    "#date_of_journey6.extend(date_of_journey0)\n",
    "print(date_of_journey60)"
   ]
  },
  {
   "cell_type": "code",
   "execution_count": 94,
   "id": "fc9f4fff",
   "metadata": {},
   "outputs": [
    {
     "name": "stdout",
     "output_type": "stream",
     "text": [
      "125\n",
      "125\n",
      "125\n",
      "125\n",
      "125\n",
      "125\n",
      "125\n",
      "125\n"
     ]
    }
   ],
   "source": [
    "airline_name6=[]\n",
    "\n",
    "source6=[]\n",
    "destination6=[] \n",
    "#route4=[] \n",
    "departure_time6=[] \n",
    "arrival_time6=[] \n",
    "duration6=[]\n",
    "total_stops6=[]\n",
    "price6=[]\n",
    "\n",
    "for a in driver.find_elements_by_xpath('//span[@class=\"i-b text ellipsis\"][1]'):\n",
    "    airline_name6.append(a.text.replace(\"/n\",\",\"))\n",
    "for b in driver.find_elements_by_xpath('//div[@class=\"i-b col-4 no-wrap text-right dtime col-3\"]/p'):\n",
    "    source6.append(b.text)\n",
    "for c in driver.find_elements_by_xpath('//div[@class=\"i-b pdd-0 text-left atime col-5\"]/p[2]'):\n",
    "    destination6.append(c.text)\n",
    "#for d in driver.find_elements_by_xpath(''):\n",
    "   # route.append(d.text)\n",
    "for e in driver.find_elements_by_xpath('//div[@class=\"i-b col-4 no-wrap text-right dtime col-3\"]/div/div'):\n",
    "    departure_time6.append(e.text.replace(\"/n\",\",\"))\n",
    "for f in driver.find_elements_by_xpath('//div[@class=\"i-b pdd-0 text-left atime col-5\"]/p[1]'):\n",
    "    arrival_time6.append(f.text.replace(\"/n\",\",\"))\n",
    "for g in driver.find_elements_by_xpath('//div[@class=\"stop-cont pl-13\"]/p'):\n",
    "    duration6.append(g.text)\n",
    "for h in driver.find_elements_by_xpath('//div[@class=\" font-lightgrey fs-10 tipsy i-b fs-10\"]/span'):\n",
    "    total_stops6.append(h.text)\n",
    "for i in driver.find_elements_by_xpath('//div[@class=\"i-b tipsy fare-summary-tooltip fs-18\"]'):\n",
    "    price6.append(i.text)\n",
    "    \n",
    "    \n",
    "print(len(airline_name6))\n",
    "\n",
    "print(len(source6))\n",
    "print(len(destination6)) \n",
    "#print(len(route3))\n",
    "print(len(departure_time6)) \n",
    "print(len(arrival_time6)) \n",
    "print(len(duration6))\n",
    "print(len(total_stops6))\n",
    "print(len(price6))"
   ]
  },
  {
   "cell_type": "code",
   "execution_count": 96,
   "id": "fb3bc0a3",
   "metadata": {},
   "outputs": [],
   "source": [
    "time.sleep(1)\n",
    "        #clciking on second page for reviews\n",
    "driver.find_element_by_xpath('//li[@class=\"i-b scroll-elem text-center\"][12]').click()"
   ]
  },
  {
   "cell_type": "code",
   "execution_count": 97,
   "id": "c02177e0",
   "metadata": {},
   "outputs": [
    {
     "data": {
      "text/plain": [
       "['Tue, 8 Feb']"
      ]
     },
     "execution_count": 97,
     "metadata": {},
     "output_type": "execute_result"
    }
   ],
   "source": [
    "date_of_journey7=[] \n",
    "for x in driver.find_elements_by_xpath('//div[@class=\"day-li text-center cursor-pointer pr active font-primary-color\"]/p[1]'):\n",
    "    date_of_journey7.append(x.text)\n",
    "date_of_journey7"
   ]
  },
  {
   "cell_type": "code",
   "execution_count": 99,
   "id": "0d1db9e5",
   "metadata": {},
   "outputs": [
    {
     "name": "stdout",
     "output_type": "stream",
     "text": [
      "126\n",
      "['8/2/2022', '8/2/2022', '8/2/2022', '8/2/2022', '8/2/2022', '8/2/2022', '8/2/2022', '8/2/2022', '8/2/2022', '8/2/2022', '8/2/2022', '8/2/2022', '8/2/2022', '8/2/2022', '8/2/2022', '8/2/2022', '8/2/2022', '8/2/2022', '8/2/2022', '8/2/2022', '8/2/2022', '8/2/2022', '8/2/2022', '8/2/2022', '8/2/2022', '8/2/2022', '8/2/2022', '8/2/2022', '8/2/2022', '8/2/2022', '8/2/2022', '8/2/2022', '8/2/2022', '8/2/2022', '8/2/2022', '8/2/2022', '8/2/2022', '8/2/2022', '8/2/2022', '8/2/2022', '8/2/2022', '8/2/2022', '8/2/2022', '8/2/2022', '8/2/2022', '8/2/2022', '8/2/2022', '8/2/2022', '8/2/2022', '8/2/2022', '8/2/2022', '8/2/2022', '8/2/2022', '8/2/2022', '8/2/2022', '8/2/2022', '8/2/2022', '8/2/2022', '8/2/2022', '8/2/2022', '8/2/2022', '8/2/2022', '8/2/2022', '8/2/2022', '8/2/2022', '8/2/2022', '8/2/2022', '8/2/2022', '8/2/2022', '8/2/2022', '8/2/2022', '8/2/2022', '8/2/2022', '8/2/2022', '8/2/2022', '8/2/2022', '8/2/2022', '8/2/2022', '8/2/2022', '8/2/2022', '8/2/2022', '8/2/2022', '8/2/2022', '8/2/2022', '8/2/2022', '8/2/2022', '8/2/2022', '8/2/2022', '8/2/2022', '8/2/2022', '8/2/2022', '8/2/2022', '8/2/2022', '8/2/2022', '8/2/2022', '8/2/2022', '8/2/2022', '8/2/2022', '8/2/2022', '8/2/2022', '8/2/2022', '8/2/2022', '8/2/2022', '8/2/2022', '8/2/2022', '8/2/2022', '8/2/2022', '8/2/2022', '8/2/2022', '8/2/2022', '8/2/2022', '8/2/2022', '8/2/2022', '8/2/2022', '8/2/2022', '8/2/2022', '8/2/2022', '8/2/2022', '8/2/2022', '8/2/2022', '8/2/2022', '8/2/2022', '8/2/2022', '8/2/2022', '8/2/2022', '8/2/2022']\n"
     ]
    }
   ],
   "source": [
    "date_of_journey70 = []\n",
    "date_of_journey70.extend([\"8/2/2022\" for i in range(126)])\n",
    "print(len(date_of_journey70))\n",
    "#date_of_journey7.extend(date_of_journey0)\n",
    "print(date_of_journey70)"
   ]
  },
  {
   "cell_type": "code",
   "execution_count": 98,
   "id": "f4cf626d",
   "metadata": {},
   "outputs": [
    {
     "name": "stdout",
     "output_type": "stream",
     "text": [
      "126\n",
      "126\n",
      "126\n",
      "126\n",
      "126\n",
      "126\n",
      "126\n",
      "126\n"
     ]
    }
   ],
   "source": [
    "airline_name7=[]\n",
    "\n",
    "source7=[]\n",
    "destination7=[] \n",
    "#route4=[] \n",
    "departure_time7=[] \n",
    "arrival_time7=[] \n",
    "duration7=[]\n",
    "total_stops7=[]\n",
    "price7=[]\n",
    "\n",
    "for a in driver.find_elements_by_xpath('//span[@class=\"i-b text ellipsis\"][1]'):\n",
    "    airline_name7.append(a.text.replace(\"/n\",\",\"))\n",
    "for b in driver.find_elements_by_xpath('//div[@class=\"i-b col-4 no-wrap text-right dtime col-3\"]/p'):\n",
    "    source7.append(b.text)\n",
    "for c in driver.find_elements_by_xpath('//div[@class=\"i-b pdd-0 text-left atime col-5\"]/p[2]'):\n",
    "    destination7.append(c.text)\n",
    "#for d in driver.find_elements_by_xpath(''):\n",
    "   # route.append(d.text)\n",
    "for e in driver.find_elements_by_xpath('//div[@class=\"i-b col-4 no-wrap text-right dtime col-3\"]/div/div'):\n",
    "    departure_time7.append(e.text.replace(\"/n\",\",\"))\n",
    "for f in driver.find_elements_by_xpath('//div[@class=\"i-b pdd-0 text-left atime col-5\"]/p[1]'):\n",
    "    arrival_time7.append(f.text.replace(\"/n\",\",\"))\n",
    "for g in driver.find_elements_by_xpath('//div[@class=\"stop-cont pl-13\"]/p'):\n",
    "    duration7.append(g.text)\n",
    "for h in driver.find_elements_by_xpath('//div[@class=\" font-lightgrey fs-10 tipsy i-b fs-10\"]/span'):\n",
    "    total_stops7.append(h.text)\n",
    "for i in driver.find_elements_by_xpath('//div[@class=\"i-b tipsy fare-summary-tooltip fs-18\"]'):\n",
    "    price7.append(i.text)\n",
    "    \n",
    "    \n",
    "print(len(airline_name7))\n",
    "\n",
    "print(len(source7))\n",
    "print(len(destination7)) \n",
    "#print(len(route3))\n",
    "print(len(departure_time7)) \n",
    "print(len(arrival_time7)) \n",
    "print(len(duration7))\n",
    "print(len(total_stops7))\n",
    "print(len(price7))"
   ]
  },
  {
   "cell_type": "code",
   "execution_count": 100,
   "id": "7caa1021",
   "metadata": {},
   "outputs": [],
   "source": [
    "time.sleep(1)\n",
    "        #clciking on second page for reviews\n",
    "driver.find_element_by_xpath('//li[@class=\"i-b scroll-elem text-center\"][12]').click()"
   ]
  },
  {
   "cell_type": "code",
   "execution_count": 101,
   "id": "437dc195",
   "metadata": {},
   "outputs": [
    {
     "data": {
      "text/plain": [
       "['Wed, 9 Feb']"
      ]
     },
     "execution_count": 101,
     "metadata": {},
     "output_type": "execute_result"
    }
   ],
   "source": [
    "date_of_journey8=[] \n",
    "for x in driver.find_elements_by_xpath('//div[@class=\"day-li text-center cursor-pointer pr active font-primary-color\"]/p[1]'):\n",
    "    date_of_journey8.append(x.text)\n",
    "date_of_journey8"
   ]
  },
  {
   "cell_type": "code",
   "execution_count": 103,
   "id": "fffa37f3",
   "metadata": {},
   "outputs": [
    {
     "name": "stdout",
     "output_type": "stream",
     "text": [
      "124\n",
      "['9/2/2022', '9/2/2022', '9/2/2022', '9/2/2022', '9/2/2022', '9/2/2022', '9/2/2022', '9/2/2022', '9/2/2022', '9/2/2022', '9/2/2022', '9/2/2022', '9/2/2022', '9/2/2022', '9/2/2022', '9/2/2022', '9/2/2022', '9/2/2022', '9/2/2022', '9/2/2022', '9/2/2022', '9/2/2022', '9/2/2022', '9/2/2022', '9/2/2022', '9/2/2022', '9/2/2022', '9/2/2022', '9/2/2022', '9/2/2022', '9/2/2022', '9/2/2022', '9/2/2022', '9/2/2022', '9/2/2022', '9/2/2022', '9/2/2022', '9/2/2022', '9/2/2022', '9/2/2022', '9/2/2022', '9/2/2022', '9/2/2022', '9/2/2022', '9/2/2022', '9/2/2022', '9/2/2022', '9/2/2022', '9/2/2022', '9/2/2022', '9/2/2022', '9/2/2022', '9/2/2022', '9/2/2022', '9/2/2022', '9/2/2022', '9/2/2022', '9/2/2022', '9/2/2022', '9/2/2022', '9/2/2022', '9/2/2022', '9/2/2022', '9/2/2022', '9/2/2022', '9/2/2022', '9/2/2022', '9/2/2022', '9/2/2022', '9/2/2022', '9/2/2022', '9/2/2022', '9/2/2022', '9/2/2022', '9/2/2022', '9/2/2022', '9/2/2022', '9/2/2022', '9/2/2022', '9/2/2022', '9/2/2022', '9/2/2022', '9/2/2022', '9/2/2022', '9/2/2022', '9/2/2022', '9/2/2022', '9/2/2022', '9/2/2022', '9/2/2022', '9/2/2022', '9/2/2022', '9/2/2022', '9/2/2022', '9/2/2022', '9/2/2022', '9/2/2022', '9/2/2022', '9/2/2022', '9/2/2022', '9/2/2022', '9/2/2022', '9/2/2022', '9/2/2022', '9/2/2022', '9/2/2022', '9/2/2022', '9/2/2022', '9/2/2022', '9/2/2022', '9/2/2022', '9/2/2022', '9/2/2022', '9/2/2022', '9/2/2022', '9/2/2022', '9/2/2022', '9/2/2022', '9/2/2022', '9/2/2022', '9/2/2022', '9/2/2022', '9/2/2022', '9/2/2022']\n"
     ]
    }
   ],
   "source": [
    "date_of_journey80 = []\n",
    "date_of_journey80.extend([\"9/2/2022\" for i in range(124)])\n",
    "print(len(date_of_journey80))\n",
    "#date_of_journey8.extend(date_of_journey0)\n",
    "print(date_of_journey80)"
   ]
  },
  {
   "cell_type": "code",
   "execution_count": 102,
   "id": "c3826a75",
   "metadata": {},
   "outputs": [
    {
     "name": "stdout",
     "output_type": "stream",
     "text": [
      "124\n",
      "124\n",
      "124\n",
      "124\n",
      "124\n",
      "124\n",
      "124\n",
      "124\n"
     ]
    }
   ],
   "source": [
    "airline_name8=[]\n",
    "\n",
    "source8=[]\n",
    "destination8=[] \n",
    "#route4=[] \n",
    "departure_time8=[] \n",
    "arrival_time8=[] \n",
    "duration8=[]\n",
    "total_stops8=[]\n",
    "price8=[]\n",
    "\n",
    "for a in driver.find_elements_by_xpath('//span[@class=\"i-b text ellipsis\"][1]'):\n",
    "    airline_name8.append(a.text.replace(\"/n\",\",\"))\n",
    "for b in driver.find_elements_by_xpath('//div[@class=\"i-b col-4 no-wrap text-right dtime col-3\"]/p'):\n",
    "    source8.append(b.text)\n",
    "for c in driver.find_elements_by_xpath('//div[@class=\"i-b pdd-0 text-left atime col-5\"]/p[2]'):\n",
    "    destination8.append(c.text)\n",
    "#for d in driver.find_elements_by_xpath(''):\n",
    "   # route.append(d.text)\n",
    "for e in driver.find_elements_by_xpath('//div[@class=\"i-b col-4 no-wrap text-right dtime col-3\"]/div/div'):\n",
    "    departure_time8.append(e.text.replace(\"/n\",\",\"))\n",
    "for f in driver.find_elements_by_xpath('//div[@class=\"i-b pdd-0 text-left atime col-5\"]/p[1]'):\n",
    "    arrival_time8.append(f.text.replace(\"/n\",\",\"))\n",
    "for g in driver.find_elements_by_xpath('//div[@class=\"stop-cont pl-13\"]/p'):\n",
    "    duration8.append(g.text)\n",
    "for h in driver.find_elements_by_xpath('//div[@class=\" font-lightgrey fs-10 tipsy i-b fs-10\"]/span'):\n",
    "    total_stops8.append(h.text)\n",
    "for i in driver.find_elements_by_xpath('//div[@class=\"i-b tipsy fare-summary-tooltip fs-18\"]'):\n",
    "    price8.append(i.text)\n",
    "    \n",
    "    \n",
    "print(len(airline_name8))\n",
    "\n",
    "print(len(source8))\n",
    "print(len(destination8)) \n",
    "#print(len(route3))\n",
    "print(len(departure_time8)) \n",
    "print(len(arrival_time8)) \n",
    "print(len(duration8))\n",
    "print(len(total_stops8))\n",
    "print(len(price8))"
   ]
  },
  {
   "cell_type": "code",
   "execution_count": 104,
   "id": "66e88899",
   "metadata": {},
   "outputs": [],
   "source": [
    "time.sleep(1)\n",
    "        #clciking on second page for reviews\n",
    "driver.find_element_by_xpath('//li[@class=\"i-b scroll-elem text-center\"][12]').click()"
   ]
  },
  {
   "cell_type": "code",
   "execution_count": 105,
   "id": "68d2d555",
   "metadata": {},
   "outputs": [
    {
     "data": {
      "text/plain": [
       "['Thu, 10 Feb']"
      ]
     },
     "execution_count": 105,
     "metadata": {},
     "output_type": "execute_result"
    }
   ],
   "source": [
    "date_of_journey9=[] \n",
    "for x in driver.find_elements_by_xpath('//div[@class=\"day-li text-center cursor-pointer pr active font-primary-color\"]/p[1]'):\n",
    "    date_of_journey9.append(x.text)\n",
    "date_of_journey9"
   ]
  },
  {
   "cell_type": "code",
   "execution_count": 107,
   "id": "e4b4f0eb",
   "metadata": {},
   "outputs": [
    {
     "name": "stdout",
     "output_type": "stream",
     "text": [
      "122\n",
      "['10/2/2022', '10/2/2022', '10/2/2022', '10/2/2022', '10/2/2022', '10/2/2022', '10/2/2022', '10/2/2022', '10/2/2022', '10/2/2022', '10/2/2022', '10/2/2022', '10/2/2022', '10/2/2022', '10/2/2022', '10/2/2022', '10/2/2022', '10/2/2022', '10/2/2022', '10/2/2022', '10/2/2022', '10/2/2022', '10/2/2022', '10/2/2022', '10/2/2022', '10/2/2022', '10/2/2022', '10/2/2022', '10/2/2022', '10/2/2022', '10/2/2022', '10/2/2022', '10/2/2022', '10/2/2022', '10/2/2022', '10/2/2022', '10/2/2022', '10/2/2022', '10/2/2022', '10/2/2022', '10/2/2022', '10/2/2022', '10/2/2022', '10/2/2022', '10/2/2022', '10/2/2022', '10/2/2022', '10/2/2022', '10/2/2022', '10/2/2022', '10/2/2022', '10/2/2022', '10/2/2022', '10/2/2022', '10/2/2022', '10/2/2022', '10/2/2022', '10/2/2022', '10/2/2022', '10/2/2022', '10/2/2022', '10/2/2022', '10/2/2022', '10/2/2022', '10/2/2022', '10/2/2022', '10/2/2022', '10/2/2022', '10/2/2022', '10/2/2022', '10/2/2022', '10/2/2022', '10/2/2022', '10/2/2022', '10/2/2022', '10/2/2022', '10/2/2022', '10/2/2022', '10/2/2022', '10/2/2022', '10/2/2022', '10/2/2022', '10/2/2022', '10/2/2022', '10/2/2022', '10/2/2022', '10/2/2022', '10/2/2022', '10/2/2022', '10/2/2022', '10/2/2022', '10/2/2022', '10/2/2022', '10/2/2022', '10/2/2022', '10/2/2022', '10/2/2022', '10/2/2022', '10/2/2022', '10/2/2022', '10/2/2022', '10/2/2022', '10/2/2022', '10/2/2022', '10/2/2022', '10/2/2022', '10/2/2022', '10/2/2022', '10/2/2022', '10/2/2022', '10/2/2022', '10/2/2022', '10/2/2022', '10/2/2022', '10/2/2022', '10/2/2022', '10/2/2022', '10/2/2022', '10/2/2022', '10/2/2022', '10/2/2022', '10/2/2022']\n"
     ]
    }
   ],
   "source": [
    "date_of_journey90 = []\n",
    "date_of_journey90.extend([\"10/2/2022\" for i in range(122)])\n",
    "print(len(date_of_journey90))\n",
    "#date_of_journey9.extend(date_of_journey90)\n",
    "print(date_of_journey90)"
   ]
  },
  {
   "cell_type": "code",
   "execution_count": 108,
   "id": "f926ff85",
   "metadata": {},
   "outputs": [
    {
     "name": "stdout",
     "output_type": "stream",
     "text": [
      "122\n",
      "122\n",
      "122\n",
      "122\n",
      "122\n",
      "122\n",
      "122\n",
      "122\n"
     ]
    }
   ],
   "source": [
    "airline_name9=[]\n",
    "\n",
    "source9=[]\n",
    "destination9=[] \n",
    "#route4=[] \n",
    "departure_time9=[] \n",
    "arrival_time9=[] \n",
    "duration9=[]\n",
    "total_stops9=[]\n",
    "price9=[]\n",
    "\n",
    "for a in driver.find_elements_by_xpath('//span[@class=\"i-b text ellipsis\"][1]'):\n",
    "    airline_name9.append(a.text.replace(\"/n\",\",\"))\n",
    "for b in driver.find_elements_by_xpath('//div[@class=\"i-b col-4 no-wrap text-right dtime col-3\"]/p'):\n",
    "    source9.append(b.text)\n",
    "for c in driver.find_elements_by_xpath('//div[@class=\"i-b pdd-0 text-left atime col-5\"]/p[2]'):\n",
    "    destination9.append(c.text)\n",
    "#for d in driver.find_elements_by_xpath(''):\n",
    "   # route.append(d.text)\n",
    "for e in driver.find_elements_by_xpath('//div[@class=\"i-b col-4 no-wrap text-right dtime col-3\"]/div/div'):\n",
    "    departure_time9.append(e.text.replace(\"/n\",\",\"))\n",
    "for f in driver.find_elements_by_xpath('//div[@class=\"i-b pdd-0 text-left atime col-5\"]/p[1]'):\n",
    "    arrival_time9.append(f.text.replace(\"/n\",\",\"))\n",
    "for g in driver.find_elements_by_xpath('//div[@class=\"stop-cont pl-13\"]/p'):\n",
    "    duration9.append(g.text)\n",
    "for h in driver.find_elements_by_xpath('//div[@class=\" font-lightgrey fs-10 tipsy i-b fs-10\"]/span'):\n",
    "    total_stops9.append(h.text)\n",
    "for i in driver.find_elements_by_xpath('//div[@class=\"i-b tipsy fare-summary-tooltip fs-18\"]'):\n",
    "    price9.append(i.text)\n",
    "    \n",
    "    \n",
    "print(len(airline_name9))\n",
    "\n",
    "print(len(source9))\n",
    "print(len(destination9)) \n",
    "#print(len(route3))\n",
    "print(len(departure_time9)) \n",
    "print(len(arrival_time9)) \n",
    "print(len(duration9))\n",
    "print(len(total_stops9))\n",
    "print(len(price9))"
   ]
  },
  {
   "cell_type": "code",
   "execution_count": 109,
   "id": "f58daff0",
   "metadata": {},
   "outputs": [],
   "source": [
    "time.sleep(1)\n",
    "        #clciking on second page for reviews\n",
    "driver.find_element_by_xpath('//li[@class=\"i-b scroll-elem text-center\"][12]').click()"
   ]
  },
  {
   "cell_type": "code",
   "execution_count": 160,
   "id": "f2b3fda2",
   "metadata": {},
   "outputs": [
    {
     "data": {
      "text/plain": [
       "['Fri, 11 Feb']"
      ]
     },
     "execution_count": 160,
     "metadata": {},
     "output_type": "execute_result"
    }
   ],
   "source": [
    "date_of_journey1000=[] \n",
    "for x in driver.find_elements_by_xpath('//div[@class=\"day-li text-center cursor-pointer pr active font-primary-color\"]/p[1]'):\n",
    "    date_of_journey1000.append(x.text)\n",
    "date_of_journey1000"
   ]
  },
  {
   "cell_type": "code",
   "execution_count": 116,
   "id": "fe8484b4",
   "metadata": {},
   "outputs": [
    {
     "name": "stdout",
     "output_type": "stream",
     "text": [
      "164\n",
      "['11/2/2022', '11/2/2022', '11/2/2022', '11/2/2022', '11/2/2022', '11/2/2022', '11/2/2022', '11/2/2022', '11/2/2022', '11/2/2022', '11/2/2022', '11/2/2022', '11/2/2022', '11/2/2022', '11/2/2022', '11/2/2022', '11/2/2022', '11/2/2022', '11/2/2022', '11/2/2022', '11/2/2022', '11/2/2022', '11/2/2022', '11/2/2022', '11/2/2022', '11/2/2022', '11/2/2022', '11/2/2022', '11/2/2022', '11/2/2022', '11/2/2022', '11/2/2022', '11/2/2022', '11/2/2022', '11/2/2022', '11/2/2022', '11/2/2022', '11/2/2022', '11/2/2022', '11/2/2022', '11/2/2022', '11/2/2022', '11/2/2022', '11/2/2022', '11/2/2022', '11/2/2022', '11/2/2022', '11/2/2022', '11/2/2022', '11/2/2022', '11/2/2022', '11/2/2022', '11/2/2022', '11/2/2022', '11/2/2022', '11/2/2022', '11/2/2022', '11/2/2022', '11/2/2022', '11/2/2022', '11/2/2022', '11/2/2022', '11/2/2022', '11/2/2022', '11/2/2022', '11/2/2022', '11/2/2022', '11/2/2022', '11/2/2022', '11/2/2022', '11/2/2022', '11/2/2022', '11/2/2022', '11/2/2022', '11/2/2022', '11/2/2022', '11/2/2022', '11/2/2022', '11/2/2022', '11/2/2022', '11/2/2022', '11/2/2022', '11/2/2022', '11/2/2022', '11/2/2022', '11/2/2022', '11/2/2022', '11/2/2022', '11/2/2022', '11/2/2022', '11/2/2022', '11/2/2022', '11/2/2022', '11/2/2022', '11/2/2022', '11/2/2022', '11/2/2022', '11/2/2022', '11/2/2022', '11/2/2022', '11/2/2022', '11/2/2022', '11/2/2022', '11/2/2022', '11/2/2022', '11/2/2022', '11/2/2022', '11/2/2022', '11/2/2022', '11/2/2022', '11/2/2022', '11/2/2022', '11/2/2022', '11/2/2022', '11/2/2022', '11/2/2022', '11/2/2022', '11/2/2022', '11/2/2022', '11/2/2022', '11/2/2022', '11/2/2022', '11/2/2022', '11/2/2022', '11/2/2022', '11/2/2022', '11/2/2022', '11/2/2022', '11/2/2022', '11/2/2022', '11/2/2022', '11/2/2022', '11/2/2022', '11/2/2022', '11/2/2022', '11/2/2022', '11/2/2022', '11/2/2022', '11/2/2022', '11/2/2022', '11/2/2022', '11/2/2022', '11/2/2022', '11/2/2022', '11/2/2022', '11/2/2022', '11/2/2022', '11/2/2022', '11/2/2022', '11/2/2022', '11/2/2022', '11/2/2022', '11/2/2022', '11/2/2022', '11/2/2022', '11/2/2022', '11/2/2022', '11/2/2022', '11/2/2022', '11/2/2022', '11/2/2022', '11/2/2022', '11/2/2022', '11/2/2022']\n"
     ]
    }
   ],
   "source": [
    "date_of_journey100 = []\n",
    "date_of_journey100.extend([\"11/2/2022\" for i in range(164)])\n",
    "print(len(date_of_journey100))\n",
    "#date_of_journey10.extend(date_of_journey0)\n",
    "print(date_of_journey100)"
   ]
  },
  {
   "cell_type": "code",
   "execution_count": 114,
   "id": "b3ed176d",
   "metadata": {},
   "outputs": [
    {
     "name": "stdout",
     "output_type": "stream",
     "text": [
      "164\n",
      "164\n",
      "164\n",
      "164\n",
      "164\n",
      "164\n",
      "164\n",
      "164\n"
     ]
    }
   ],
   "source": [
    "airline_name10=[]\n",
    "\n",
    "source10=[]\n",
    "destination10=[] \n",
    "#route4=[] \n",
    "departure_time10=[] \n",
    "arrival_time10=[] \n",
    "duration10=[]\n",
    "total_stops10=[]\n",
    "price10=[]\n",
    "\n",
    "for a in driver.find_elements_by_xpath('//span[@class=\"i-b text ellipsis\"][1]'):\n",
    "    airline_name10.append(a.text.replace(\"/n\",\",\"))\n",
    "for b in driver.find_elements_by_xpath('//div[@class=\"i-b col-4 no-wrap text-right dtime col-3\"]/p'):\n",
    "    source10.append(b.text)\n",
    "for c in driver.find_elements_by_xpath('//div[@class=\"i-b pdd-0 text-left atime col-5\"]/p[2]'):\n",
    "    destination10.append(c.text)\n",
    "#for d in driver.find_elements_by_xpath(''):\n",
    "   # route.append(d.text)\n",
    "for e in driver.find_elements_by_xpath('//div[@class=\"i-b col-4 no-wrap text-right dtime col-3\"]/div/div'):\n",
    "    departure_time10.append(e.text.replace(\"/n\",\",\"))\n",
    "for f in driver.find_elements_by_xpath('//div[@class=\"i-b pdd-0 text-left atime col-5\"]/p[1]'):\n",
    "    arrival_time10.append(f.text.replace(\"/n\",\",\"))\n",
    "for g in driver.find_elements_by_xpath('//div[@class=\"stop-cont pl-13\"]/p'):\n",
    "    duration10.append(g.text)\n",
    "for h in driver.find_elements_by_xpath('//div[@class=\" font-lightgrey fs-10 tipsy i-b fs-10\"]/span'):\n",
    "    total_stops10.append(h.text)\n",
    "for i in driver.find_elements_by_xpath('//div[@class=\"i-b tipsy fare-summary-tooltip fs-18\"]'):\n",
    "    price10.append(i.text)\n",
    "    \n",
    "    \n",
    "print(len(airline_name10))\n",
    "\n",
    "print(len(source10))\n",
    "print(len(destination10)) \n",
    "#print(len(route3))\n",
    "print(len(departure_time10)) \n",
    "print(len(arrival_time10)) \n",
    "print(len(duration10))\n",
    "print(len(total_stops10))\n",
    "print(len(price10))"
   ]
  },
  {
   "cell_type": "code",
   "execution_count": 117,
   "id": "1e644118",
   "metadata": {},
   "outputs": [],
   "source": [
    "time.sleep(1)\n",
    "        #clciking on second page for reviews\n",
    "driver.find_element_by_xpath('//li[@class=\"i-b scroll-elem text-center\"][12]').click()"
   ]
  },
  {
   "cell_type": "code",
   "execution_count": 118,
   "id": "2a1d51d9",
   "metadata": {},
   "outputs": [
    {
     "data": {
      "text/plain": [
       "['Sat, 12 Feb']"
      ]
     },
     "execution_count": 118,
     "metadata": {},
     "output_type": "execute_result"
    }
   ],
   "source": [
    "date_of_journey11=[] \n",
    "for x in driver.find_elements_by_xpath('//div[@class=\"day-li text-center cursor-pointer pr active font-primary-color\"]/p[1]'):\n",
    "    date_of_journey11.append(x.text)\n",
    "date_of_journey11"
   ]
  },
  {
   "cell_type": "code",
   "execution_count": 120,
   "id": "91d36628",
   "metadata": {},
   "outputs": [
    {
     "name": "stdout",
     "output_type": "stream",
     "text": [
      "146\n",
      "['12/2/2022', '12/2/2022', '12/2/2022', '12/2/2022', '12/2/2022', '12/2/2022', '12/2/2022', '12/2/2022', '12/2/2022', '12/2/2022', '12/2/2022', '12/2/2022', '12/2/2022', '12/2/2022', '12/2/2022', '12/2/2022', '12/2/2022', '12/2/2022', '12/2/2022', '12/2/2022', '12/2/2022', '12/2/2022', '12/2/2022', '12/2/2022', '12/2/2022', '12/2/2022', '12/2/2022', '12/2/2022', '12/2/2022', '12/2/2022', '12/2/2022', '12/2/2022', '12/2/2022', '12/2/2022', '12/2/2022', '12/2/2022', '12/2/2022', '12/2/2022', '12/2/2022', '12/2/2022', '12/2/2022', '12/2/2022', '12/2/2022', '12/2/2022', '12/2/2022', '12/2/2022', '12/2/2022', '12/2/2022', '12/2/2022', '12/2/2022', '12/2/2022', '12/2/2022', '12/2/2022', '12/2/2022', '12/2/2022', '12/2/2022', '12/2/2022', '12/2/2022', '12/2/2022', '12/2/2022', '12/2/2022', '12/2/2022', '12/2/2022', '12/2/2022', '12/2/2022', '12/2/2022', '12/2/2022', '12/2/2022', '12/2/2022', '12/2/2022', '12/2/2022', '12/2/2022', '12/2/2022', '12/2/2022', '12/2/2022', '12/2/2022', '12/2/2022', '12/2/2022', '12/2/2022', '12/2/2022', '12/2/2022', '12/2/2022', '12/2/2022', '12/2/2022', '12/2/2022', '12/2/2022', '12/2/2022', '12/2/2022', '12/2/2022', '12/2/2022', '12/2/2022', '12/2/2022', '12/2/2022', '12/2/2022', '12/2/2022', '12/2/2022', '12/2/2022', '12/2/2022', '12/2/2022', '12/2/2022', '12/2/2022', '12/2/2022', '12/2/2022', '12/2/2022', '12/2/2022', '12/2/2022', '12/2/2022', '12/2/2022', '12/2/2022', '12/2/2022', '12/2/2022', '12/2/2022', '12/2/2022', '12/2/2022', '12/2/2022', '12/2/2022', '12/2/2022', '12/2/2022', '12/2/2022', '12/2/2022', '12/2/2022', '12/2/2022', '12/2/2022', '12/2/2022', '12/2/2022', '12/2/2022', '12/2/2022', '12/2/2022', '12/2/2022', '12/2/2022', '12/2/2022', '12/2/2022', '12/2/2022', '12/2/2022', '12/2/2022', '12/2/2022', '12/2/2022', '12/2/2022', '12/2/2022', '12/2/2022', '12/2/2022', '12/2/2022', '12/2/2022', '12/2/2022', '12/2/2022', '12/2/2022']\n"
     ]
    }
   ],
   "source": [
    "date_of_journey110 = []\n",
    "date_of_journey110.extend([\"12/2/2022\" for i in range(146)])\n",
    "print(len(date_of_journey110))\n",
    "#date_of_journey11.extend(date_of_journey0)\n",
    "print(date_of_journey110)"
   ]
  },
  {
   "cell_type": "code",
   "execution_count": 119,
   "id": "7e6a5194",
   "metadata": {},
   "outputs": [
    {
     "name": "stdout",
     "output_type": "stream",
     "text": [
      "146\n",
      "146\n",
      "146\n",
      "146\n",
      "146\n",
      "146\n",
      "146\n",
      "146\n"
     ]
    }
   ],
   "source": [
    "airline_name11=[]\n",
    "\n",
    "source11=[]\n",
    "destination11=[] \n",
    "#route4=[] \n",
    "departure_time11=[] \n",
    "arrival_time11=[] \n",
    "duration11=[]\n",
    "total_stops11=[]\n",
    "price11=[]\n",
    "\n",
    "for a in driver.find_elements_by_xpath('//span[@class=\"i-b text ellipsis\"][1]'):\n",
    "    airline_name11.append(a.text.replace(\"/n\",\",\"))\n",
    "for b in driver.find_elements_by_xpath('//div[@class=\"i-b col-4 no-wrap text-right dtime col-3\"]/p'):\n",
    "    source11.append(b.text)\n",
    "for c in driver.find_elements_by_xpath('//div[@class=\"i-b pdd-0 text-left atime col-5\"]/p[2]'):\n",
    "    destination11.append(c.text)\n",
    "#for d in driver.find_elements_by_xpath(''):\n",
    "   # route.append(d.text)\n",
    "for e in driver.find_elements_by_xpath('//div[@class=\"i-b col-4 no-wrap text-right dtime col-3\"]/div/div'):\n",
    "    departure_time11.append(e.text.replace(\"/n\",\",\"))\n",
    "for f in driver.find_elements_by_xpath('//div[@class=\"i-b pdd-0 text-left atime col-5\"]/p[1]'):\n",
    "    arrival_time11.append(f.text.replace(\"/n\",\",\"))\n",
    "for g in driver.find_elements_by_xpath('//div[@class=\"stop-cont pl-13\"]/p'):\n",
    "    duration11.append(g.text)\n",
    "for h in driver.find_elements_by_xpath('//div[@class=\" font-lightgrey fs-10 tipsy i-b fs-10\"]/span'):\n",
    "    total_stops11.append(h.text)\n",
    "for i in driver.find_elements_by_xpath('//div[@class=\"i-b tipsy fare-summary-tooltip fs-18\"]'):\n",
    "    price11.append(i.text)\n",
    "    \n",
    "    \n",
    "print(len(airline_name11))\n",
    "\n",
    "print(len(source11))\n",
    "print(len(destination11)) \n",
    "#print(len(route3))\n",
    "print(len(departure_time11)) \n",
    "print(len(arrival_time11)) \n",
    "print(len(duration11))\n",
    "print(len(total_stops11))\n",
    "print(len(price11))"
   ]
  },
  {
   "cell_type": "code",
   "execution_count": 121,
   "id": "cec5f783",
   "metadata": {},
   "outputs": [],
   "source": [
    "time.sleep(1)\n",
    "        #clciking on second page for reviews\n",
    "driver.find_element_by_xpath('//li[@class=\"i-b scroll-elem text-center\"][12]').click()"
   ]
  },
  {
   "cell_type": "code",
   "execution_count": 122,
   "id": "521a13b8",
   "metadata": {},
   "outputs": [
    {
     "data": {
      "text/plain": [
       "['Sun, 13 Feb']"
      ]
     },
     "execution_count": 122,
     "metadata": {},
     "output_type": "execute_result"
    }
   ],
   "source": [
    "date_of_journey12=[] \n",
    "for x in driver.find_elements_by_xpath('//div[@class=\"day-li text-center cursor-pointer pr active font-primary-color\"]/p[1]'):\n",
    "    date_of_journey12.append(x.text)\n",
    "date_of_journey12"
   ]
  },
  {
   "cell_type": "code",
   "execution_count": 125,
   "id": "0bcf465d",
   "metadata": {},
   "outputs": [
    {
     "name": "stdout",
     "output_type": "stream",
     "text": [
      "155\n",
      "['13/2/2022', '13/2/2022', '13/2/2022', '13/2/2022', '13/2/2022', '13/2/2022', '13/2/2022', '13/2/2022', '13/2/2022', '13/2/2022', '13/2/2022', '13/2/2022', '13/2/2022', '13/2/2022', '13/2/2022', '13/2/2022', '13/2/2022', '13/2/2022', '13/2/2022', '13/2/2022', '13/2/2022', '13/2/2022', '13/2/2022', '13/2/2022', '13/2/2022', '13/2/2022', '13/2/2022', '13/2/2022', '13/2/2022', '13/2/2022', '13/2/2022', '13/2/2022', '13/2/2022', '13/2/2022', '13/2/2022', '13/2/2022', '13/2/2022', '13/2/2022', '13/2/2022', '13/2/2022', '13/2/2022', '13/2/2022', '13/2/2022', '13/2/2022', '13/2/2022', '13/2/2022', '13/2/2022', '13/2/2022', '13/2/2022', '13/2/2022', '13/2/2022', '13/2/2022', '13/2/2022', '13/2/2022', '13/2/2022', '13/2/2022', '13/2/2022', '13/2/2022', '13/2/2022', '13/2/2022', '13/2/2022', '13/2/2022', '13/2/2022', '13/2/2022', '13/2/2022', '13/2/2022', '13/2/2022', '13/2/2022', '13/2/2022', '13/2/2022', '13/2/2022', '13/2/2022', '13/2/2022', '13/2/2022', '13/2/2022', '13/2/2022', '13/2/2022', '13/2/2022', '13/2/2022', '13/2/2022', '13/2/2022', '13/2/2022', '13/2/2022', '13/2/2022', '13/2/2022', '13/2/2022', '13/2/2022', '13/2/2022', '13/2/2022', '13/2/2022', '13/2/2022', '13/2/2022', '13/2/2022', '13/2/2022', '13/2/2022', '13/2/2022', '13/2/2022', '13/2/2022', '13/2/2022', '13/2/2022', '13/2/2022', '13/2/2022', '13/2/2022', '13/2/2022', '13/2/2022', '13/2/2022', '13/2/2022', '13/2/2022', '13/2/2022', '13/2/2022', '13/2/2022', '13/2/2022', '13/2/2022', '13/2/2022', '13/2/2022', '13/2/2022', '13/2/2022', '13/2/2022', '13/2/2022', '13/2/2022', '13/2/2022', '13/2/2022', '13/2/2022', '13/2/2022', '13/2/2022', '13/2/2022', '13/2/2022', '13/2/2022', '13/2/2022', '13/2/2022', '13/2/2022', '13/2/2022', '13/2/2022', '13/2/2022', '13/2/2022', '13/2/2022', '13/2/2022', '13/2/2022', '13/2/2022', '13/2/2022', '13/2/2022', '13/2/2022', '13/2/2022', '13/2/2022', '13/2/2022', '13/2/2022', '13/2/2022', '13/2/2022', '13/2/2022', '13/2/2022', '13/2/2022', '13/2/2022', '13/2/2022', '13/2/2022', '13/2/2022']\n"
     ]
    }
   ],
   "source": [
    "date_of_journey120 = []\n",
    "date_of_journey120.extend([\"13/2/2022\" for i in range(155)])\n",
    "print(len(date_of_journey120))\n",
    "#date_of_journey12.extend(date_of_journey0)\n",
    "print(date_of_journey120)"
   ]
  },
  {
   "cell_type": "code",
   "execution_count": 123,
   "id": "53ba5ff7",
   "metadata": {},
   "outputs": [
    {
     "name": "stdout",
     "output_type": "stream",
     "text": [
      "155\n",
      "155\n",
      "155\n",
      "155\n",
      "155\n",
      "155\n",
      "155\n",
      "155\n"
     ]
    }
   ],
   "source": [
    "airline_name12=[]\n",
    "\n",
    "source12=[]\n",
    "destination12=[] \n",
    "#route4=[] \n",
    "departure_time12=[] \n",
    "arrival_time12=[] \n",
    "duration12=[]\n",
    "total_stops12=[]\n",
    "price12=[]\n",
    "\n",
    "for a in driver.find_elements_by_xpath('//span[@class=\"i-b text ellipsis\"][1]'):\n",
    "    airline_name12.append(a.text.replace(\"/n\",\",\"))\n",
    "for b in driver.find_elements_by_xpath('//div[@class=\"i-b col-4 no-wrap text-right dtime col-3\"]/p'):\n",
    "    source12.append(b.text)\n",
    "for c in driver.find_elements_by_xpath('//div[@class=\"i-b pdd-0 text-left atime col-5\"]/p[2]'):\n",
    "    destination12.append(c.text)\n",
    "#for d in driver.find_elements_by_xpath(''):\n",
    "   # route.append(d.text)\n",
    "for e in driver.find_elements_by_xpath('//div[@class=\"i-b col-4 no-wrap text-right dtime col-3\"]/div/div'):\n",
    "    departure_time12.append(e.text.replace(\"/n\",\",\"))\n",
    "for f in driver.find_elements_by_xpath('//div[@class=\"i-b pdd-0 text-left atime col-5\"]/p[1]'):\n",
    "    arrival_time12.append(f.text.replace(\"/n\",\",\"))\n",
    "for g in driver.find_elements_by_xpath('//div[@class=\"stop-cont pl-13\"]/p'):\n",
    "    duration12.append(g.text)\n",
    "for h in driver.find_elements_by_xpath('//div[@class=\" font-lightgrey fs-10 tipsy i-b fs-10\"]/span'):\n",
    "    total_stops12.append(h.text)\n",
    "for i in driver.find_elements_by_xpath('//div[@class=\"i-b tipsy fare-summary-tooltip fs-18\"]'):\n",
    "    price12.append(i.text)\n",
    "    \n",
    "    \n",
    "print(len(airline_name12))\n",
    "\n",
    "print(len(source12))\n",
    "print(len(destination12)) \n",
    "#print(len(route3))\n",
    "print(len(departure_time12)) \n",
    "print(len(arrival_time12)) \n",
    "print(len(duration12))\n",
    "print(len(total_stops12))\n",
    "print(len(price12))"
   ]
  },
  {
   "cell_type": "code",
   "execution_count": 126,
   "id": "bc1419bc",
   "metadata": {},
   "outputs": [],
   "source": [
    "time.sleep(1)\n",
    "        #clciking on second page for reviews\n",
    "driver.find_element_by_xpath('//li[@class=\"i-b scroll-elem text-center\"][12]').click()"
   ]
  },
  {
   "cell_type": "code",
   "execution_count": 128,
   "id": "5db463b2",
   "metadata": {},
   "outputs": [
    {
     "data": {
      "text/plain": [
       "['Mon, 14 Feb']"
      ]
     },
     "execution_count": 128,
     "metadata": {},
     "output_type": "execute_result"
    }
   ],
   "source": [
    "date_of_journey13=[] \n",
    "for x in driver.find_elements_by_xpath('//div[@class=\"day-li text-center cursor-pointer pr active font-primary-color\"]/p[1]'):\n",
    "    date_of_journey13.append(x.text)\n",
    "date_of_journey13"
   ]
  },
  {
   "cell_type": "code",
   "execution_count": 132,
   "id": "3c681f72",
   "metadata": {},
   "outputs": [
    {
     "name": "stdout",
     "output_type": "stream",
     "text": [
      "151\n",
      "['14/2/2022', '14/2/2022', '14/2/2022', '14/2/2022', '14/2/2022', '14/2/2022', '14/2/2022', '14/2/2022', '14/2/2022', '14/2/2022', '14/2/2022', '14/2/2022', '14/2/2022', '14/2/2022', '14/2/2022', '14/2/2022', '14/2/2022', '14/2/2022', '14/2/2022', '14/2/2022', '14/2/2022', '14/2/2022', '14/2/2022', '14/2/2022', '14/2/2022', '14/2/2022', '14/2/2022', '14/2/2022', '14/2/2022', '14/2/2022', '14/2/2022', '14/2/2022', '14/2/2022', '14/2/2022', '14/2/2022', '14/2/2022', '14/2/2022', '14/2/2022', '14/2/2022', '14/2/2022', '14/2/2022', '14/2/2022', '14/2/2022', '14/2/2022', '14/2/2022', '14/2/2022', '14/2/2022', '14/2/2022', '14/2/2022', '14/2/2022', '14/2/2022', '14/2/2022', '14/2/2022', '14/2/2022', '14/2/2022', '14/2/2022', '14/2/2022', '14/2/2022', '14/2/2022', '14/2/2022', '14/2/2022', '14/2/2022', '14/2/2022', '14/2/2022', '14/2/2022', '14/2/2022', '14/2/2022', '14/2/2022', '14/2/2022', '14/2/2022', '14/2/2022', '14/2/2022', '14/2/2022', '14/2/2022', '14/2/2022', '14/2/2022', '14/2/2022', '14/2/2022', '14/2/2022', '14/2/2022', '14/2/2022', '14/2/2022', '14/2/2022', '14/2/2022', '14/2/2022', '14/2/2022', '14/2/2022', '14/2/2022', '14/2/2022', '14/2/2022', '14/2/2022', '14/2/2022', '14/2/2022', '14/2/2022', '14/2/2022', '14/2/2022', '14/2/2022', '14/2/2022', '14/2/2022', '14/2/2022', '14/2/2022', '14/2/2022', '14/2/2022', '14/2/2022', '14/2/2022', '14/2/2022', '14/2/2022', '14/2/2022', '14/2/2022', '14/2/2022', '14/2/2022', '14/2/2022', '14/2/2022', '14/2/2022', '14/2/2022', '14/2/2022', '14/2/2022', '14/2/2022', '14/2/2022', '14/2/2022', '14/2/2022', '14/2/2022', '14/2/2022', '14/2/2022', '14/2/2022', '14/2/2022', '14/2/2022', '14/2/2022', '14/2/2022', '14/2/2022', '14/2/2022', '14/2/2022', '14/2/2022', '14/2/2022', '14/2/2022', '14/2/2022', '14/2/2022', '14/2/2022', '14/2/2022', '14/2/2022', '14/2/2022', '14/2/2022', '14/2/2022', '14/2/2022', '14/2/2022', '14/2/2022', '14/2/2022', '14/2/2022', '14/2/2022', '14/2/2022', '14/2/2022']\n"
     ]
    }
   ],
   "source": [
    "date_of_journey130 = []\n",
    "date_of_journey130.extend([\"14/2/2022\" for i in range(151)])\n",
    "print(len(date_of_journey130))\n",
    "#date_of_journey13.extend(date_of_journey0)\n",
    "print(date_of_journey130)"
   ]
  },
  {
   "cell_type": "code",
   "execution_count": 130,
   "id": "feef6ab2",
   "metadata": {},
   "outputs": [
    {
     "name": "stdout",
     "output_type": "stream",
     "text": [
      "151\n",
      "151\n",
      "151\n",
      "151\n",
      "151\n",
      "151\n",
      "151\n",
      "151\n"
     ]
    }
   ],
   "source": [
    "airline_name13=[]\n",
    "\n",
    "source13=[]\n",
    "destination13=[] \n",
    "#route4=[] \n",
    "departure_time13=[] \n",
    "arrival_time13=[] \n",
    "duration13=[]\n",
    "total_stops13=[]\n",
    "price13=[]\n",
    "\n",
    "for a in driver.find_elements_by_xpath('//span[@class=\"i-b text ellipsis\"][1]'):\n",
    "    airline_name13.append(a.text.replace(\"/n\",\",\"))\n",
    "for b in driver.find_elements_by_xpath('//div[@class=\"i-b col-4 no-wrap text-right dtime col-3\"]/p'):\n",
    "    source13.append(b.text)\n",
    "for c in driver.find_elements_by_xpath('//div[@class=\"i-b pdd-0 text-left atime col-5\"]/p[2]'):\n",
    "    destination13.append(c.text)\n",
    "#for d in driver.find_elements_by_xpath(''):\n",
    "   # route.append(d.text)\n",
    "for e in driver.find_elements_by_xpath('//div[@class=\"i-b col-4 no-wrap text-right dtime col-3\"]/div/div'):\n",
    "    departure_time13.append(e.text.replace(\"/n\",\",\"))\n",
    "for f in driver.find_elements_by_xpath('//div[@class=\"i-b pdd-0 text-left atime col-5\"]/p[1]'):\n",
    "    arrival_time13.append(f.text.replace(\"/n\",\",\"))\n",
    "for g in driver.find_elements_by_xpath('//div[@class=\"stop-cont pl-13\"]/p'):\n",
    "    duration13.append(g.text)\n",
    "for h in driver.find_elements_by_xpath('//div[@class=\" font-lightgrey fs-10 tipsy i-b fs-10\"]/span'):\n",
    "    total_stops13.append(h.text)\n",
    "for i in driver.find_elements_by_xpath('//div[@class=\"i-b tipsy fare-summary-tooltip fs-18\"]'):\n",
    "    price13.append(i.text)\n",
    "    \n",
    "    \n",
    "print(len(airline_name13))\n",
    "\n",
    "print(len(source13))\n",
    "print(len(destination13)) \n",
    "#print(len(route3))\n",
    "print(len(departure_time13)) \n",
    "print(len(arrival_time13)) \n",
    "print(len(duration13))\n",
    "print(len(total_stops13))\n",
    "print(len(price13))"
   ]
  },
  {
   "cell_type": "code",
   "execution_count": 133,
   "id": "97359511",
   "metadata": {},
   "outputs": [
    {
     "name": "stdout",
     "output_type": "stream",
     "text": [
      "1880\n"
     ]
    }
   ],
   "source": [
    "airline_name_n=airline_name+airline_name1+airline_name2+airline_name3+airline_name4+airline_name5+airline_name6+airline_name7+airline_name8+airline_name9+airline_name10+airline_name11+airline_name12+airline_name13\n",
    "print(len(airline_name_n))"
   ]
  },
  {
   "cell_type": "code",
   "execution_count": 166,
   "id": "cb6acd0d",
   "metadata": {},
   "outputs": [
    {
     "name": "stdout",
     "output_type": "stream",
     "text": [
      "1880\n",
      "['1/2/2022', '1/2/2022', '1/2/2022', '1/2/2022', '1/2/2022', '1/2/2022', '1/2/2022', '1/2/2022', '1/2/2022', '1/2/2022', '1/2/2022', '1/2/2022', '1/2/2022', '1/2/2022', '1/2/2022', '1/2/2022', '1/2/2022', '1/2/2022', '1/2/2022', '1/2/2022', '1/2/2022', '1/2/2022', '1/2/2022', '1/2/2022', '1/2/2022', '1/2/2022', '1/2/2022', '1/2/2022', '1/2/2022', '1/2/2022', '1/2/2022', '1/2/2022', '1/2/2022', '1/2/2022', '1/2/2022', '1/2/2022', '1/2/2022', '1/2/2022', '1/2/2022', '1/2/2022', '1/2/2022', '1/2/2022', '1/2/2022', '1/2/2022', '1/2/2022', '1/2/2022', '1/2/2022', '1/2/2022', '1/2/2022', '1/2/2022', '1/2/2022', '1/2/2022', '1/2/2022', '1/2/2022', '1/2/2022', '1/2/2022', '1/2/2022', '1/2/2022', '1/2/2022', '1/2/2022', '1/2/2022', '1/2/2022', '1/2/2022', '1/2/2022', '1/2/2022', '1/2/2022', '1/2/2022', '1/2/2022', '1/2/2022', '1/2/2022', '1/2/2022', '1/2/2022', '1/2/2022', '1/2/2022', '1/2/2022', '1/2/2022', '1/2/2022', '1/2/2022', '1/2/2022', '1/2/2022', '1/2/2022', '1/2/2022', '1/2/2022', '1/2/2022', '1/2/2022', '1/2/2022', '1/2/2022', '1/2/2022', '1/2/2022', '1/2/2022', '1/2/2022', '1/2/2022', '1/2/2022', '1/2/2022', '1/2/2022', '1/2/2022', '1/2/2022', '1/2/2022', '1/2/2022', '1/2/2022', '1/2/2022', '1/2/2022', '1/2/2022', '1/2/2022', '1/2/2022', '1/2/2022', '1/2/2022', '1/2/2022', '1/2/2022', '1/2/2022', '1/2/2022', '1/2/2022', '1/2/2022', '1/2/2022', '1/2/2022', '1/2/2022', '1/2/2022', '1/2/2022', '1/2/2022', '11/2/2022', '11/2/2022', '11/2/2022', '11/2/2022', '11/2/2022', '11/2/2022', '11/2/2022', '11/2/2022', '11/2/2022', '11/2/2022', '11/2/2022', '11/2/2022', '11/2/2022', '11/2/2022', '11/2/2022', '11/2/2022', '11/2/2022', '11/2/2022', '11/2/2022', '11/2/2022', '11/2/2022', '11/2/2022', '11/2/2022', '11/2/2022', '11/2/2022', '11/2/2022', '11/2/2022', '11/2/2022', '11/2/2022', '11/2/2022', '11/2/2022', '11/2/2022', '11/2/2022', '11/2/2022', '11/2/2022', '11/2/2022', '11/2/2022', '11/2/2022', '11/2/2022', '11/2/2022', '11/2/2022', '11/2/2022', '11/2/2022', '11/2/2022', '11/2/2022', '11/2/2022', '11/2/2022', '11/2/2022', '11/2/2022', '11/2/2022', '11/2/2022', '11/2/2022', '11/2/2022', '11/2/2022', '11/2/2022', '11/2/2022', '11/2/2022', '11/2/2022', '11/2/2022', '11/2/2022', '11/2/2022', '11/2/2022', '11/2/2022', '11/2/2022', '11/2/2022', '11/2/2022', '11/2/2022', '11/2/2022', '11/2/2022', '11/2/2022', '11/2/2022', '11/2/2022', '11/2/2022', '11/2/2022', '11/2/2022', '11/2/2022', '11/2/2022', '11/2/2022', '11/2/2022', '11/2/2022', '11/2/2022', '11/2/2022', '11/2/2022', '11/2/2022', '11/2/2022', '11/2/2022', '11/2/2022', '11/2/2022', '11/2/2022', '11/2/2022', '11/2/2022', '11/2/2022', '11/2/2022', '11/2/2022', '11/2/2022', '11/2/2022', '11/2/2022', '11/2/2022', '11/2/2022', '11/2/2022', '11/2/2022', '11/2/2022', '11/2/2022', '11/2/2022', '11/2/2022', '11/2/2022', '11/2/2022', '11/2/2022', '11/2/2022', '11/2/2022', '11/2/2022', '11/2/2022', '11/2/2022', '11/2/2022', '11/2/2022', '11/2/2022', '11/2/2022', '11/2/2022', '11/2/2022', '11/2/2022', '11/2/2022', '11/2/2022', '11/2/2022', '11/2/2022', '11/2/2022', '11/2/2022', '11/2/2022', '11/2/2022', '11/2/2022', '11/2/2022', '11/2/2022', '11/2/2022', '11/2/2022', '11/2/2022', '11/2/2022', '11/2/2022', '11/2/2022', '11/2/2022', '11/2/2022', '11/2/2022', '11/2/2022', '11/2/2022', '11/2/2022', '11/2/2022', '11/2/2022', '11/2/2022', '11/2/2022', '11/2/2022', '11/2/2022', '11/2/2022', '11/2/2022', '11/2/2022', '11/2/2022', '11/2/2022', '11/2/2022', '11/2/2022', '11/2/2022', '11/2/2022', '11/2/2022', '11/2/2022', '11/2/2022', '11/2/2022', '11/2/2022', '11/2/2022', '2/2/2022', '2/2/2022', '2/2/2022', '2/2/2022', '2/2/2022', '2/2/2022', '2/2/2022', '2/2/2022', '2/2/2022', '2/2/2022', '2/2/2022', '2/2/2022', '2/2/2022', '2/2/2022', '2/2/2022', '2/2/2022', '2/2/2022', '2/2/2022', '2/2/2022', '2/2/2022', '2/2/2022', '2/2/2022', '2/2/2022', '2/2/2022', '2/2/2022', '2/2/2022', '2/2/2022', '2/2/2022', '2/2/2022', '2/2/2022', '2/2/2022', '2/2/2022', '2/2/2022', '2/2/2022', '2/2/2022', '2/2/2022', '2/2/2022', '2/2/2022', '2/2/2022', '2/2/2022', '2/2/2022', '2/2/2022', '2/2/2022', '2/2/2022', '2/2/2022', '2/2/2022', '2/2/2022', '2/2/2022', '2/2/2022', '2/2/2022', '2/2/2022', '2/2/2022', '2/2/2022', '2/2/2022', '2/2/2022', '2/2/2022', '2/2/2022', '2/2/2022', '2/2/2022', '2/2/2022', '2/2/2022', '2/2/2022', '2/2/2022', '2/2/2022', '2/2/2022', '2/2/2022', '2/2/2022', '2/2/2022', '2/2/2022', '2/2/2022', '2/2/2022', '2/2/2022', '2/2/2022', '2/2/2022', '2/2/2022', '2/2/2022', '2/2/2022', '2/2/2022', '2/2/2022', '2/2/2022', '2/2/2022', '2/2/2022', '2/2/2022', '2/2/2022', '2/2/2022', '2/2/2022', '2/2/2022', '2/2/2022', '2/2/2022', '2/2/2022', '2/2/2022', '2/2/2022', '2/2/2022', '2/2/2022', '2/2/2022', '2/2/2022', '2/2/2022', '2/2/2022', '2/2/2022', '2/2/2022', '2/2/2022', '2/2/2022', '2/2/2022', '2/2/2022', '2/2/2022', '2/2/2022', '2/2/2022', '2/2/2022', '2/2/2022', '2/2/2022', '2/2/2022', '2/2/2022', '2/2/2022', '2/2/2022', '2/2/2022', '2/2/2022', '2/2/2022', '2/2/2022', '2/2/2022', '2/2/2022', '2/2/2022', '2/2/2022', '2/2/2022', '2/2/2022', '2/2/2022', '2/2/2022', '2/2/2022', '2/2/2022', '2/2/2022', '2/2/2022', '2/2/2022', '2/2/2022', '3/2/2022', '3/2/2022', '3/2/2022', '3/2/2022', '3/2/2022', '3/2/2022', '3/2/2022', '3/2/2022', '3/2/2022', '3/2/2022', '3/2/2022', '3/2/2022', '3/2/2022', '3/2/2022', '3/2/2022', '3/2/2022', '3/2/2022', '3/2/2022', '3/2/2022', '3/2/2022', '3/2/2022', '3/2/2022', '3/2/2022', '3/2/2022', '3/2/2022', '3/2/2022', '3/2/2022', '3/2/2022', '3/2/2022', '3/2/2022', '3/2/2022', '3/2/2022', '3/2/2022', '3/2/2022', '3/2/2022', '3/2/2022', '3/2/2022', '3/2/2022', '3/2/2022', '3/2/2022', '3/2/2022', '3/2/2022', '3/2/2022', '3/2/2022', '3/2/2022', '3/2/2022', '3/2/2022', '3/2/2022', '3/2/2022', '3/2/2022', '3/2/2022', '3/2/2022', '3/2/2022', '3/2/2022', '3/2/2022', '3/2/2022', '3/2/2022', '3/2/2022', '3/2/2022', '3/2/2022', '3/2/2022', '3/2/2022', '3/2/2022', '3/2/2022', '3/2/2022', '3/2/2022', '3/2/2022', '3/2/2022', '3/2/2022', '3/2/2022', '3/2/2022', '3/2/2022', '3/2/2022', '3/2/2022', '3/2/2022', '3/2/2022', '3/2/2022', '3/2/2022', '3/2/2022', '3/2/2022', '3/2/2022', '3/2/2022', '3/2/2022', '3/2/2022', '3/2/2022', '3/2/2022', '3/2/2022', '3/2/2022', '3/2/2022', '3/2/2022', '3/2/2022', '3/2/2022', '3/2/2022', '3/2/2022', '3/2/2022', '3/2/2022', '3/2/2022', '3/2/2022', '3/2/2022', '3/2/2022', '3/2/2022', '3/2/2022', '3/2/2022', '3/2/2022', '3/2/2022', '3/2/2022', '3/2/2022', '3/2/2022', '3/2/2022', '3/2/2022', '3/2/2022', '3/2/2022', '3/2/2022', '3/2/2022', '3/2/2022', '3/2/2022', '3/2/2022', '3/2/2022', '3/2/2022', '3/2/2022', '3/2/2022', '3/2/2022', '4/2/2022', '4/2/2022', '4/2/2022', '4/2/2022', '4/2/2022', '4/2/2022', '4/2/2022', '4/2/2022', '4/2/2022', '4/2/2022', '4/2/2022', '4/2/2022', '4/2/2022', '4/2/2022', '4/2/2022', '4/2/2022', '4/2/2022', '4/2/2022', '4/2/2022', '4/2/2022', '4/2/2022', '4/2/2022', '4/2/2022', '4/2/2022', '4/2/2022', '4/2/2022', '4/2/2022', '4/2/2022', '4/2/2022', '4/2/2022', '4/2/2022', '4/2/2022', '4/2/2022', '4/2/2022', '4/2/2022', '4/2/2022', '4/2/2022', '4/2/2022', '4/2/2022', '4/2/2022', '4/2/2022', '4/2/2022', '4/2/2022', '4/2/2022', '4/2/2022', '4/2/2022', '4/2/2022', '4/2/2022', '4/2/2022', '4/2/2022', '4/2/2022', '4/2/2022', '4/2/2022', '4/2/2022', '4/2/2022', '4/2/2022', '4/2/2022', '4/2/2022', '4/2/2022', '4/2/2022', '4/2/2022', '4/2/2022', '4/2/2022', '4/2/2022', '4/2/2022', '4/2/2022', '4/2/2022', '4/2/2022', '4/2/2022', '4/2/2022', '4/2/2022', '4/2/2022', '4/2/2022', '4/2/2022', '4/2/2022', '4/2/2022', '4/2/2022', '4/2/2022', '4/2/2022', '4/2/2022', '4/2/2022', '4/2/2022', '4/2/2022', '4/2/2022', '4/2/2022', '4/2/2022', '4/2/2022', '4/2/2022', '4/2/2022', '4/2/2022', '4/2/2022', '4/2/2022', '4/2/2022', '4/2/2022', '4/2/2022', '4/2/2022', '4/2/2022', '4/2/2022', '4/2/2022', '4/2/2022', '4/2/2022', '4/2/2022', '4/2/2022', '4/2/2022', '4/2/2022', '4/2/2022', '4/2/2022', '4/2/2022', '4/2/2022', '4/2/2022', '4/2/2022', '4/2/2022', '4/2/2022', '4/2/2022', '4/2/2022', '4/2/2022', '4/2/2022', '4/2/2022', '4/2/2022', '4/2/2022', '4/2/2022', '4/2/2022', '4/2/2022', '4/2/2022', '4/2/2022', '5/2/2022', '5/2/2022', '5/2/2022', '5/2/2022', '5/2/2022', '5/2/2022', '5/2/2022', '5/2/2022', '5/2/2022', '5/2/2022', '5/2/2022', '5/2/2022', '5/2/2022', '5/2/2022', '5/2/2022', '5/2/2022', '5/2/2022', '5/2/2022', '5/2/2022', '5/2/2022', '5/2/2022', '5/2/2022', '5/2/2022', '5/2/2022', '5/2/2022', '5/2/2022', '5/2/2022', '5/2/2022', '5/2/2022', '5/2/2022', '5/2/2022', '5/2/2022', '5/2/2022', '5/2/2022', '5/2/2022', '5/2/2022', '5/2/2022', '5/2/2022', '5/2/2022', '5/2/2022', '5/2/2022', '5/2/2022', '5/2/2022', '5/2/2022', '5/2/2022', '5/2/2022', '5/2/2022', '5/2/2022', '5/2/2022', '5/2/2022', '5/2/2022', '5/2/2022', '5/2/2022', '5/2/2022', '5/2/2022', '5/2/2022', '5/2/2022', '5/2/2022', '5/2/2022', '5/2/2022', '5/2/2022', '5/2/2022', '5/2/2022', '5/2/2022', '5/2/2022', '5/2/2022', '5/2/2022', '5/2/2022', '5/2/2022', '5/2/2022', '5/2/2022', '5/2/2022', '5/2/2022', '5/2/2022', '5/2/2022', '5/2/2022', '5/2/2022', '5/2/2022', '5/2/2022', '5/2/2022', '5/2/2022', '5/2/2022', '5/2/2022', '5/2/2022', '5/2/2022', '5/2/2022', '5/2/2022', '5/2/2022', '5/2/2022', '5/2/2022', '5/2/2022', '5/2/2022', '5/2/2022', '5/2/2022', '5/2/2022', '5/2/2022', '5/2/2022', '5/2/2022', '5/2/2022', '5/2/2022', '5/2/2022', '5/2/2022', '5/2/2022', '5/2/2022', '5/2/2022', '5/2/2022', '5/2/2022', '5/2/2022', '5/2/2022', '5/2/2022', '5/2/2022', '5/2/2022', '5/2/2022', '5/2/2022', '5/2/2022', '5/2/2022', '5/2/2022', '5/2/2022', '5/2/2022', '5/2/2022', '5/2/2022', '5/2/2022', '5/2/2022', '5/2/2022', '5/2/2022', '5/2/2022', '5/2/2022', '6/2/2022', '6/2/2022', '6/2/2022', '6/2/2022', '6/2/2022', '6/2/2022', '6/2/2022', '6/2/2022', '6/2/2022', '6/2/2022', '6/2/2022', '6/2/2022', '6/2/2022', '6/2/2022', '6/2/2022', '6/2/2022', '6/2/2022', '6/2/2022', '6/2/2022', '6/2/2022', '6/2/2022', '6/2/2022', '6/2/2022', '6/2/2022', '6/2/2022', '6/2/2022', '6/2/2022', '6/2/2022', '6/2/2022', '6/2/2022', '6/2/2022', '6/2/2022', '6/2/2022', '6/2/2022', '6/2/2022', '6/2/2022', '6/2/2022', '6/2/2022', '6/2/2022', '6/2/2022', '6/2/2022', '6/2/2022', '6/2/2022', '6/2/2022', '6/2/2022', '6/2/2022', '6/2/2022', '6/2/2022', '6/2/2022', '6/2/2022', '6/2/2022', '6/2/2022', '6/2/2022', '6/2/2022', '6/2/2022', '6/2/2022', '6/2/2022', '6/2/2022', '6/2/2022', '6/2/2022', '6/2/2022', '6/2/2022', '6/2/2022', '6/2/2022', '6/2/2022', '6/2/2022', '6/2/2022', '6/2/2022', '6/2/2022', '6/2/2022', '6/2/2022', '6/2/2022', '6/2/2022', '6/2/2022', '6/2/2022', '6/2/2022', '6/2/2022', '6/2/2022', '6/2/2022', '6/2/2022', '6/2/2022', '6/2/2022', '6/2/2022', '6/2/2022', '6/2/2022', '6/2/2022', '6/2/2022', '6/2/2022', '6/2/2022', '6/2/2022', '6/2/2022', '6/2/2022', '6/2/2022', '6/2/2022', '6/2/2022', '6/2/2022', '6/2/2022', '6/2/2022', '6/2/2022', '6/2/2022', '6/2/2022', '6/2/2022', '6/2/2022', '6/2/2022', '6/2/2022', '6/2/2022', '6/2/2022', '6/2/2022', '6/2/2022', '6/2/2022', '6/2/2022', '6/2/2022', '6/2/2022', '6/2/2022', '6/2/2022', '6/2/2022', '6/2/2022', '6/2/2022', '6/2/2022', '6/2/2022', '6/2/2022', '6/2/2022', '6/2/2022', '6/2/2022', '6/2/2022', '6/2/2022', '6/2/2022', '6/2/2022', '6/2/2022', '6/2/2022', '6/2/2022', '6/2/2022', '6/2/2022', '6/2/2022', '6/2/2022', '6/2/2022', '6/2/2022', '6/2/2022', '6/2/2022', '6/2/2022', '6/2/2022', '6/2/2022', '7/2/2022', '7/2/2022', '7/2/2022', '7/2/2022', '7/2/2022', '7/2/2022', '7/2/2022', '7/2/2022', '7/2/2022', '7/2/2022', '7/2/2022', '7/2/2022', '7/2/2022', '7/2/2022', '7/2/2022', '7/2/2022', '7/2/2022', '7/2/2022', '7/2/2022', '7/2/2022', '7/2/2022', '7/2/2022', '7/2/2022', '7/2/2022', '7/2/2022', '7/2/2022', '7/2/2022', '7/2/2022', '7/2/2022', '7/2/2022', '7/2/2022', '7/2/2022', '7/2/2022', '7/2/2022', '7/2/2022', '7/2/2022', '7/2/2022', '7/2/2022', '7/2/2022', '7/2/2022', '7/2/2022', '7/2/2022', '7/2/2022', '7/2/2022', '7/2/2022', '7/2/2022', '7/2/2022', '7/2/2022', '7/2/2022', '7/2/2022', '7/2/2022', '7/2/2022', '7/2/2022', '7/2/2022', '7/2/2022', '7/2/2022', '7/2/2022', '7/2/2022', '7/2/2022', '7/2/2022', '7/2/2022', '7/2/2022', '7/2/2022', '7/2/2022', '7/2/2022', '7/2/2022', '7/2/2022', '7/2/2022', '7/2/2022', '7/2/2022', '7/2/2022', '7/2/2022', '7/2/2022', '7/2/2022', '7/2/2022', '7/2/2022', '7/2/2022', '7/2/2022', '7/2/2022', '7/2/2022', '7/2/2022', '7/2/2022', '7/2/2022', '7/2/2022', '7/2/2022', '7/2/2022', '7/2/2022', '7/2/2022', '7/2/2022', '7/2/2022', '7/2/2022', '7/2/2022', '7/2/2022', '7/2/2022', '7/2/2022', '7/2/2022', '7/2/2022', '7/2/2022', '7/2/2022', '7/2/2022', '7/2/2022', '7/2/2022', '7/2/2022', '7/2/2022', '7/2/2022', '7/2/2022', '7/2/2022', '7/2/2022', '7/2/2022', '7/2/2022', '7/2/2022', '7/2/2022', '7/2/2022', '7/2/2022', '7/2/2022', '7/2/2022', '7/2/2022', '7/2/2022', '7/2/2022', '7/2/2022', '7/2/2022', '7/2/2022', '7/2/2022', '7/2/2022', '7/2/2022', '8/2/2022', '8/2/2022', '8/2/2022', '8/2/2022', '8/2/2022', '8/2/2022', '8/2/2022', '8/2/2022', '8/2/2022', '8/2/2022', '8/2/2022', '8/2/2022', '8/2/2022', '8/2/2022', '8/2/2022', '8/2/2022', '8/2/2022', '8/2/2022', '8/2/2022', '8/2/2022', '8/2/2022', '8/2/2022', '8/2/2022', '8/2/2022', '8/2/2022', '8/2/2022', '8/2/2022', '8/2/2022', '8/2/2022', '8/2/2022', '8/2/2022', '8/2/2022', '8/2/2022', '8/2/2022', '8/2/2022', '8/2/2022', '8/2/2022', '8/2/2022', '8/2/2022', '8/2/2022', '8/2/2022', '8/2/2022', '8/2/2022', '8/2/2022', '8/2/2022', '8/2/2022', '8/2/2022', '8/2/2022', '8/2/2022', '8/2/2022', '8/2/2022', '8/2/2022', '8/2/2022', '8/2/2022', '8/2/2022', '8/2/2022', '8/2/2022', '8/2/2022', '8/2/2022', '8/2/2022', '8/2/2022', '8/2/2022', '8/2/2022', '8/2/2022', '8/2/2022', '8/2/2022', '8/2/2022', '8/2/2022', '8/2/2022', '8/2/2022', '8/2/2022', '8/2/2022', '8/2/2022', '8/2/2022', '8/2/2022', '8/2/2022', '8/2/2022', '8/2/2022', '8/2/2022', '8/2/2022', '8/2/2022', '8/2/2022', '8/2/2022', '8/2/2022', '8/2/2022', '8/2/2022', '8/2/2022', '8/2/2022', '8/2/2022', '8/2/2022', '8/2/2022', '8/2/2022', '8/2/2022', '8/2/2022', '8/2/2022', '8/2/2022', '8/2/2022', '8/2/2022', '8/2/2022', '8/2/2022', '8/2/2022', '8/2/2022', '8/2/2022', '8/2/2022', '8/2/2022', '8/2/2022', '8/2/2022', '8/2/2022', '8/2/2022', '8/2/2022', '8/2/2022', '8/2/2022', '8/2/2022', '8/2/2022', '8/2/2022', '8/2/2022', '8/2/2022', '8/2/2022', '8/2/2022', '8/2/2022', '8/2/2022', '8/2/2022', '8/2/2022', '8/2/2022', '8/2/2022', '8/2/2022', '9/2/2022', '9/2/2022', '9/2/2022', '9/2/2022', '9/2/2022', '9/2/2022', '9/2/2022', '9/2/2022', '9/2/2022', '9/2/2022', '9/2/2022', '9/2/2022', '9/2/2022', '9/2/2022', '9/2/2022', '9/2/2022', '9/2/2022', '9/2/2022', '9/2/2022', '9/2/2022', '9/2/2022', '9/2/2022', '9/2/2022', '9/2/2022', '9/2/2022', '9/2/2022', '9/2/2022', '9/2/2022', '9/2/2022', '9/2/2022', '9/2/2022', '9/2/2022', '9/2/2022', '9/2/2022', '9/2/2022', '9/2/2022', '9/2/2022', '9/2/2022', '9/2/2022', '9/2/2022', '9/2/2022', '9/2/2022', '9/2/2022', '9/2/2022', '9/2/2022', '9/2/2022', '9/2/2022', '9/2/2022', '9/2/2022', '9/2/2022', '9/2/2022', '9/2/2022', '9/2/2022', '9/2/2022', '9/2/2022', '9/2/2022', '9/2/2022', '9/2/2022', '9/2/2022', '9/2/2022', '9/2/2022', '9/2/2022', '9/2/2022', '9/2/2022', '9/2/2022', '9/2/2022', '9/2/2022', '9/2/2022', '9/2/2022', '9/2/2022', '9/2/2022', '9/2/2022', '9/2/2022', '9/2/2022', '9/2/2022', '9/2/2022', '9/2/2022', '9/2/2022', '9/2/2022', '9/2/2022', '9/2/2022', '9/2/2022', '9/2/2022', '9/2/2022', '9/2/2022', '9/2/2022', '9/2/2022', '9/2/2022', '9/2/2022', '9/2/2022', '9/2/2022', '9/2/2022', '9/2/2022', '9/2/2022', '9/2/2022', '9/2/2022', '9/2/2022', '9/2/2022', '9/2/2022', '9/2/2022', '9/2/2022', '9/2/2022', '9/2/2022', '9/2/2022', '9/2/2022', '9/2/2022', '9/2/2022', '9/2/2022', '9/2/2022', '9/2/2022', '9/2/2022', '9/2/2022', '9/2/2022', '9/2/2022', '9/2/2022', '9/2/2022', '9/2/2022', '9/2/2022', '9/2/2022', '9/2/2022', '9/2/2022', '9/2/2022', '9/2/2022', '9/2/2022', '10/2/2022', '10/2/2022', '10/2/2022', '10/2/2022', '10/2/2022', '10/2/2022', '10/2/2022', '10/2/2022', '10/2/2022', '10/2/2022', '10/2/2022', '10/2/2022', '10/2/2022', '10/2/2022', '10/2/2022', '10/2/2022', '10/2/2022', '10/2/2022', '10/2/2022', '10/2/2022', '10/2/2022', '10/2/2022', '10/2/2022', '10/2/2022', '10/2/2022', '10/2/2022', '10/2/2022', '10/2/2022', '10/2/2022', '10/2/2022', '10/2/2022', '10/2/2022', '10/2/2022', '10/2/2022', '10/2/2022', '10/2/2022', '10/2/2022', '10/2/2022', '10/2/2022', '10/2/2022', '10/2/2022', '10/2/2022', '10/2/2022', '10/2/2022', '10/2/2022', '10/2/2022', '10/2/2022', '10/2/2022', '10/2/2022', '10/2/2022', '10/2/2022', '10/2/2022', '10/2/2022', '10/2/2022', '10/2/2022', '10/2/2022', '10/2/2022', '10/2/2022', '10/2/2022', '10/2/2022', '10/2/2022', '10/2/2022', '10/2/2022', '10/2/2022', '10/2/2022', '10/2/2022', '10/2/2022', '10/2/2022', '10/2/2022', '10/2/2022', '10/2/2022', '10/2/2022', '10/2/2022', '10/2/2022', '10/2/2022', '10/2/2022', '10/2/2022', '10/2/2022', '10/2/2022', '10/2/2022', '10/2/2022', '10/2/2022', '10/2/2022', '10/2/2022', '10/2/2022', '10/2/2022', '10/2/2022', '10/2/2022', '10/2/2022', '10/2/2022', '10/2/2022', '10/2/2022', '10/2/2022', '10/2/2022', '10/2/2022', '10/2/2022', '10/2/2022', '10/2/2022', '10/2/2022', '10/2/2022', '10/2/2022', '10/2/2022', '10/2/2022', '10/2/2022', '10/2/2022', '10/2/2022', '10/2/2022', '10/2/2022', '10/2/2022', '10/2/2022', '10/2/2022', '10/2/2022', '10/2/2022', '10/2/2022', '10/2/2022', '10/2/2022', '10/2/2022', '10/2/2022', '10/2/2022', '10/2/2022', '10/2/2022', '10/2/2022', '12/2/2022', '12/2/2022', '12/2/2022', '12/2/2022', '12/2/2022', '12/2/2022', '12/2/2022', '12/2/2022', '12/2/2022', '12/2/2022', '12/2/2022', '12/2/2022', '12/2/2022', '12/2/2022', '12/2/2022', '12/2/2022', '12/2/2022', '12/2/2022', '12/2/2022', '12/2/2022', '12/2/2022', '12/2/2022', '12/2/2022', '12/2/2022', '12/2/2022', '12/2/2022', '12/2/2022', '12/2/2022', '12/2/2022', '12/2/2022', '12/2/2022', '12/2/2022', '12/2/2022', '12/2/2022', '12/2/2022', '12/2/2022', '12/2/2022', '12/2/2022', '12/2/2022', '12/2/2022', '12/2/2022', '12/2/2022', '12/2/2022', '12/2/2022', '12/2/2022', '12/2/2022', '12/2/2022', '12/2/2022', '12/2/2022', '12/2/2022', '12/2/2022', '12/2/2022', '12/2/2022', '12/2/2022', '12/2/2022', '12/2/2022', '12/2/2022', '12/2/2022', '12/2/2022', '12/2/2022', '12/2/2022', '12/2/2022', '12/2/2022', '12/2/2022', '12/2/2022', '12/2/2022', '12/2/2022', '12/2/2022', '12/2/2022', '12/2/2022', '12/2/2022', '12/2/2022', '12/2/2022', '12/2/2022', '12/2/2022', '12/2/2022', '12/2/2022', '12/2/2022', '12/2/2022', '12/2/2022', '12/2/2022', '12/2/2022', '12/2/2022', '12/2/2022', '12/2/2022', '12/2/2022', '12/2/2022', '12/2/2022', '12/2/2022', '12/2/2022', '12/2/2022', '12/2/2022', '12/2/2022', '12/2/2022', '12/2/2022', '12/2/2022', '12/2/2022', '12/2/2022', '12/2/2022', '12/2/2022', '12/2/2022', '12/2/2022', '12/2/2022', '12/2/2022', '12/2/2022', '12/2/2022', '12/2/2022', '12/2/2022', '12/2/2022', '12/2/2022', '12/2/2022', '12/2/2022', '12/2/2022', '12/2/2022', '12/2/2022', '12/2/2022', '12/2/2022', '12/2/2022', '12/2/2022', '12/2/2022', '12/2/2022', '12/2/2022', '12/2/2022', '12/2/2022', '12/2/2022', '12/2/2022', '12/2/2022', '12/2/2022', '12/2/2022', '12/2/2022', '12/2/2022', '12/2/2022', '12/2/2022', '12/2/2022', '12/2/2022', '12/2/2022', '12/2/2022', '12/2/2022', '12/2/2022', '12/2/2022', '12/2/2022', '12/2/2022', '12/2/2022', '12/2/2022', '12/2/2022', '12/2/2022', '13/2/2022', '13/2/2022', '13/2/2022', '13/2/2022', '13/2/2022', '13/2/2022', '13/2/2022', '13/2/2022', '13/2/2022', '13/2/2022', '13/2/2022', '13/2/2022', '13/2/2022', '13/2/2022', '13/2/2022', '13/2/2022', '13/2/2022', '13/2/2022', '13/2/2022', '13/2/2022', '13/2/2022', '13/2/2022', '13/2/2022', '13/2/2022', '13/2/2022', '13/2/2022', '13/2/2022', '13/2/2022', '13/2/2022', '13/2/2022', '13/2/2022', '13/2/2022', '13/2/2022', '13/2/2022', '13/2/2022', '13/2/2022', '13/2/2022', '13/2/2022', '13/2/2022', '13/2/2022', '13/2/2022', '13/2/2022', '13/2/2022', '13/2/2022', '13/2/2022', '13/2/2022', '13/2/2022', '13/2/2022', '13/2/2022', '13/2/2022', '13/2/2022', '13/2/2022', '13/2/2022', '13/2/2022', '13/2/2022', '13/2/2022', '13/2/2022', '13/2/2022', '13/2/2022', '13/2/2022', '13/2/2022', '13/2/2022', '13/2/2022', '13/2/2022', '13/2/2022', '13/2/2022', '13/2/2022', '13/2/2022', '13/2/2022', '13/2/2022', '13/2/2022', '13/2/2022', '13/2/2022', '13/2/2022', '13/2/2022', '13/2/2022', '13/2/2022', '13/2/2022', '13/2/2022', '13/2/2022', '13/2/2022', '13/2/2022', '13/2/2022', '13/2/2022', '13/2/2022', '13/2/2022', '13/2/2022', '13/2/2022', '13/2/2022', '13/2/2022', '13/2/2022', '13/2/2022', '13/2/2022', '13/2/2022', '13/2/2022', '13/2/2022', '13/2/2022', '13/2/2022', '13/2/2022', '13/2/2022', '13/2/2022', '13/2/2022', '13/2/2022', '13/2/2022', '13/2/2022', '13/2/2022', '13/2/2022', '13/2/2022', '13/2/2022', '13/2/2022', '13/2/2022', '13/2/2022', '13/2/2022', '13/2/2022', '13/2/2022', '13/2/2022', '13/2/2022', '13/2/2022', '13/2/2022', '13/2/2022', '13/2/2022', '13/2/2022', '13/2/2022', '13/2/2022', '13/2/2022', '13/2/2022', '13/2/2022', '13/2/2022', '13/2/2022', '13/2/2022', '13/2/2022', '13/2/2022', '13/2/2022', '13/2/2022', '13/2/2022', '13/2/2022', '13/2/2022', '13/2/2022', '13/2/2022', '13/2/2022', '13/2/2022', '13/2/2022', '13/2/2022', '13/2/2022', '13/2/2022', '13/2/2022', '13/2/2022', '13/2/2022', '13/2/2022', '13/2/2022', '13/2/2022', '13/2/2022', '13/2/2022', '13/2/2022', '13/2/2022', '14/2/2022', '14/2/2022', '14/2/2022', '14/2/2022', '14/2/2022', '14/2/2022', '14/2/2022', '14/2/2022', '14/2/2022', '14/2/2022', '14/2/2022', '14/2/2022', '14/2/2022', '14/2/2022', '14/2/2022', '14/2/2022', '14/2/2022', '14/2/2022', '14/2/2022', '14/2/2022', '14/2/2022', '14/2/2022', '14/2/2022', '14/2/2022', '14/2/2022', '14/2/2022', '14/2/2022', '14/2/2022', '14/2/2022', '14/2/2022', '14/2/2022', '14/2/2022', '14/2/2022', '14/2/2022', '14/2/2022', '14/2/2022', '14/2/2022', '14/2/2022', '14/2/2022', '14/2/2022', '14/2/2022', '14/2/2022', '14/2/2022', '14/2/2022', '14/2/2022', '14/2/2022', '14/2/2022', '14/2/2022', '14/2/2022', '14/2/2022', '14/2/2022', '14/2/2022', '14/2/2022', '14/2/2022', '14/2/2022', '14/2/2022', '14/2/2022', '14/2/2022', '14/2/2022', '14/2/2022', '14/2/2022', '14/2/2022', '14/2/2022', '14/2/2022', '14/2/2022', '14/2/2022', '14/2/2022', '14/2/2022', '14/2/2022', '14/2/2022', '14/2/2022', '14/2/2022', '14/2/2022', '14/2/2022', '14/2/2022', '14/2/2022', '14/2/2022', '14/2/2022', '14/2/2022', '14/2/2022', '14/2/2022', '14/2/2022', '14/2/2022', '14/2/2022', '14/2/2022', '14/2/2022', '14/2/2022', '14/2/2022', '14/2/2022', '14/2/2022', '14/2/2022', '14/2/2022', '14/2/2022', '14/2/2022', '14/2/2022', '14/2/2022', '14/2/2022', '14/2/2022', '14/2/2022', '14/2/2022', '14/2/2022', '14/2/2022', '14/2/2022', '14/2/2022', '14/2/2022', '14/2/2022', '14/2/2022', '14/2/2022', '14/2/2022', '14/2/2022', '14/2/2022', '14/2/2022', '14/2/2022', '14/2/2022', '14/2/2022', '14/2/2022', '14/2/2022', '14/2/2022', '14/2/2022', '14/2/2022', '14/2/2022', '14/2/2022', '14/2/2022', '14/2/2022', '14/2/2022', '14/2/2022', '14/2/2022', '14/2/2022', '14/2/2022', '14/2/2022', '14/2/2022', '14/2/2022', '14/2/2022', '14/2/2022', '14/2/2022', '14/2/2022', '14/2/2022', '14/2/2022', '14/2/2022', '14/2/2022', '14/2/2022', '14/2/2022', '14/2/2022', '14/2/2022', '14/2/2022', '14/2/2022', '14/2/2022', '14/2/2022', '14/2/2022', '14/2/2022', '14/2/2022']\n"
     ]
    }
   ],
   "source": [
    "date_of_journey_n=[]\n",
    "date_of_journey_n=date_of_journey0+date_of_journey10+date_of_journey20+date_of_journey30+date_of_journey40+date_of_journey50+date_of_journey60+date_of_journey70+date_of_journey80+date_of_journey90+date_of_journey110+date_of_journey120+date_of_journey130\n",
    "print(len(date_of_journey_n))\n",
    "#date_of_journey_n1=date_of_journey_n[:1880]\n",
    "print(date_of_journey_n)"
   ]
  },
  {
   "cell_type": "code",
   "execution_count": 135,
   "id": "d211af32",
   "metadata": {},
   "outputs": [
    {
     "name": "stdout",
     "output_type": "stream",
     "text": [
      "1880\n"
     ]
    }
   ],
   "source": [
    "source_n=source+source1+source2+source3+source4+source5+source6+source7+source8+source9+source10+source11+source12+source13\n",
    "print(len(source_n))"
   ]
  },
  {
   "cell_type": "code",
   "execution_count": 136,
   "id": "4d96df97",
   "metadata": {},
   "outputs": [
    {
     "name": "stdout",
     "output_type": "stream",
     "text": [
      "1880\n"
     ]
    }
   ],
   "source": [
    "destination_n=destination+destination1+destination2+destination3+destination4+destination5+destination6+destination7+destination8+destination9+destination10+destination11+destination12+destination13\n",
    "print(len(destination_n))"
   ]
  },
  {
   "cell_type": "code",
   "execution_count": 137,
   "id": "b3660abf",
   "metadata": {},
   "outputs": [
    {
     "name": "stdout",
     "output_type": "stream",
     "text": [
      "1880\n"
     ]
    }
   ],
   "source": [
    "departure_time_n=departure_time+departure_time1+departure_time2+departure_time3+departure_time4+departure_time5+departure_time6+departure_time7+departure_time8+departure_time9+departure_time10+departure_time11+departure_time12+departure_time13\n",
    "print(len(departure_time_n))"
   ]
  },
  {
   "cell_type": "code",
   "execution_count": 138,
   "id": "dd713e9b",
   "metadata": {},
   "outputs": [
    {
     "name": "stdout",
     "output_type": "stream",
     "text": [
      "1880\n"
     ]
    }
   ],
   "source": [
    "arrival_time_n=arrival_time+arrival_time1+arrival_time2+arrival_time3+arrival_time4+arrival_time5+arrival_time6+arrival_time7+arrival_time8+arrival_time9+arrival_time10+arrival_time11+arrival_time12+arrival_time13\n",
    "print(len(arrival_time_n)) "
   ]
  },
  {
   "cell_type": "code",
   "execution_count": 139,
   "id": "1c1796c2",
   "metadata": {},
   "outputs": [
    {
     "name": "stdout",
     "output_type": "stream",
     "text": [
      "1880\n"
     ]
    }
   ],
   "source": [
    "duration_n=duration+duration1+duration2+duration3+duration4+duration5+duration6+duration7+duration8+duration9+duration10+duration11+duration12+duration13\n",
    "print(len(duration_n))"
   ]
  },
  {
   "cell_type": "code",
   "execution_count": 140,
   "id": "50d1e2db",
   "metadata": {},
   "outputs": [
    {
     "name": "stdout",
     "output_type": "stream",
     "text": [
      "1880\n"
     ]
    }
   ],
   "source": [
    "total_stops_n=total_stops+total_stops1+total_stops2+total_stops3+total_stops4+total_stops5+total_stops6+total_stops7+total_stops8+total_stops9+total_stops10+total_stops11+total_stops12+total_stops13\n",
    "print(len(total_stops_n))"
   ]
  },
  {
   "cell_type": "code",
   "execution_count": 141,
   "id": "a6922c46",
   "metadata": {},
   "outputs": [
    {
     "name": "stdout",
     "output_type": "stream",
     "text": [
      "1880\n"
     ]
    }
   ],
   "source": [
    "price_n=price+price1+price2+price3+price4+price5+price6+price7+price8+price9+price10+price11+price12+price13\n",
    "print(len(price_n))"
   ]
  },
  {
   "cell_type": "markdown",
   "id": "ecf2726c",
   "metadata": {},
   "source": [
    "airline_name13=[]\n",
    "\n",
    "source13=[]\n",
    "destination13=[] \n",
    "#route4=[] \n",
    "departure_time13=[] \n",
    "arrival_time13=[] \n",
    "duration13=[]\n",
    "total_stops13=[]\n",
    "price13=[]"
   ]
  },
  {
   "cell_type": "code",
   "execution_count": 167,
   "id": "c8408c58",
   "metadata": {},
   "outputs": [
    {
     "data": {
      "text/html": [
       "<div>\n",
       "<style scoped>\n",
       "    .dataframe tbody tr th:only-of-type {\n",
       "        vertical-align: middle;\n",
       "    }\n",
       "\n",
       "    .dataframe tbody tr th {\n",
       "        vertical-align: top;\n",
       "    }\n",
       "\n",
       "    .dataframe thead th {\n",
       "        text-align: right;\n",
       "    }\n",
       "</style>\n",
       "<table border=\"1\" class=\"dataframe\">\n",
       "  <thead>\n",
       "    <tr style=\"text-align: right;\">\n",
       "      <th></th>\n",
       "      <th>airline_name</th>\n",
       "      <th>date_of_journey</th>\n",
       "      <th>source</th>\n",
       "      <th>destination</th>\n",
       "      <th>departure_time</th>\n",
       "      <th>arrival_time</th>\n",
       "      <th>duration</th>\n",
       "      <th>total_stops</th>\n",
       "      <th>price</th>\n",
       "    </tr>\n",
       "  </thead>\n",
       "  <tbody>\n",
       "    <tr>\n",
       "      <th>0</th>\n",
       "      <td>SpiceJet</td>\n",
       "      <td>1/2/2022</td>\n",
       "      <td>New Delhi</td>\n",
       "      <td>Mumbai</td>\n",
       "      <td>06:20</td>\n",
       "      <td>08:40</td>\n",
       "      <td>2h 20m</td>\n",
       "      <td>Non Stop</td>\n",
       "      <td>5,953</td>\n",
       "    </tr>\n",
       "    <tr>\n",
       "      <th>1</th>\n",
       "      <td>Go First</td>\n",
       "      <td>1/2/2022</td>\n",
       "      <td>New Delhi</td>\n",
       "      <td>Mumbai</td>\n",
       "      <td>13:30</td>\n",
       "      <td>15:35</td>\n",
       "      <td>2h 05m</td>\n",
       "      <td>Non Stop</td>\n",
       "      <td>5,954</td>\n",
       "    </tr>\n",
       "    <tr>\n",
       "      <th>2</th>\n",
       "      <td>Go First</td>\n",
       "      <td>1/2/2022</td>\n",
       "      <td>New Delhi</td>\n",
       "      <td>Mumbai</td>\n",
       "      <td>15:30</td>\n",
       "      <td>17:35</td>\n",
       "      <td>2h 05m</td>\n",
       "      <td>Non Stop</td>\n",
       "      <td>5,954</td>\n",
       "    </tr>\n",
       "    <tr>\n",
       "      <th>3</th>\n",
       "      <td>Go First</td>\n",
       "      <td>1/2/2022</td>\n",
       "      <td>New Delhi</td>\n",
       "      <td>Mumbai</td>\n",
       "      <td>17:00</td>\n",
       "      <td>19:05</td>\n",
       "      <td>2h 05m</td>\n",
       "      <td>Non Stop</td>\n",
       "      <td>5,954</td>\n",
       "    </tr>\n",
       "    <tr>\n",
       "      <th>4</th>\n",
       "      <td>Go First</td>\n",
       "      <td>1/2/2022</td>\n",
       "      <td>New Delhi</td>\n",
       "      <td>Mumbai</td>\n",
       "      <td>07:00</td>\n",
       "      <td>09:10</td>\n",
       "      <td>2h 10m</td>\n",
       "      <td>Non Stop</td>\n",
       "      <td>5,954</td>\n",
       "    </tr>\n",
       "    <tr>\n",
       "      <th>...</th>\n",
       "      <td>...</td>\n",
       "      <td>...</td>\n",
       "      <td>...</td>\n",
       "      <td>...</td>\n",
       "      <td>...</td>\n",
       "      <td>...</td>\n",
       "      <td>...</td>\n",
       "      <td>...</td>\n",
       "      <td>...</td>\n",
       "    </tr>\n",
       "    <tr>\n",
       "      <th>1875</th>\n",
       "      <td>Go First</td>\n",
       "      <td>13/2/2022</td>\n",
       "      <td>New Delhi</td>\n",
       "      <td>Mumbai</td>\n",
       "      <td>11:50</td>\n",
       "      <td>18:10</td>\n",
       "      <td>6h 20m</td>\n",
       "      <td>1 Stop</td>\n",
       "      <td>5,954</td>\n",
       "    </tr>\n",
       "    <tr>\n",
       "      <th>1876</th>\n",
       "      <td>Go First</td>\n",
       "      <td>13/2/2022</td>\n",
       "      <td>New Delhi</td>\n",
       "      <td>Mumbai</td>\n",
       "      <td>10:50</td>\n",
       "      <td>18:20</td>\n",
       "      <td>7h 30m</td>\n",
       "      <td>1 Stop</td>\n",
       "      <td>5,954</td>\n",
       "    </tr>\n",
       "    <tr>\n",
       "      <th>1877</th>\n",
       "      <td>Go First</td>\n",
       "      <td>13/2/2022</td>\n",
       "      <td>New Delhi</td>\n",
       "      <td>Mumbai</td>\n",
       "      <td>13:45</td>\n",
       "      <td>22:20</td>\n",
       "      <td>8h 35m</td>\n",
       "      <td>2 Stop(s)</td>\n",
       "      <td>5,954</td>\n",
       "    </tr>\n",
       "    <tr>\n",
       "      <th>1878</th>\n",
       "      <td>Go First</td>\n",
       "      <td>13/2/2022</td>\n",
       "      <td>New Delhi</td>\n",
       "      <td>Mumbai</td>\n",
       "      <td>10:50</td>\n",
       "      <td>19:40</td>\n",
       "      <td>8h 50m</td>\n",
       "      <td>1 Stop</td>\n",
       "      <td>5,954</td>\n",
       "    </tr>\n",
       "    <tr>\n",
       "      <th>1879</th>\n",
       "      <td>Go First</td>\n",
       "      <td>13/2/2022</td>\n",
       "      <td>New Delhi</td>\n",
       "      <td>Mumbai</td>\n",
       "      <td>09:15</td>\n",
       "      <td>18:10</td>\n",
       "      <td>8h 55m</td>\n",
       "      <td>1 Stop</td>\n",
       "      <td>5,954</td>\n",
       "    </tr>\n",
       "  </tbody>\n",
       "</table>\n",
       "<p>1880 rows × 9 columns</p>\n",
       "</div>"
      ],
      "text/plain": [
       "     airline_name date_of_journey     source destination departure_time  \\\n",
       "0        SpiceJet        1/2/2022  New Delhi      Mumbai          06:20   \n",
       "1        Go First        1/2/2022  New Delhi      Mumbai          13:30   \n",
       "2        Go First        1/2/2022  New Delhi      Mumbai          15:30   \n",
       "3        Go First        1/2/2022  New Delhi      Mumbai          17:00   \n",
       "4        Go First        1/2/2022  New Delhi      Mumbai          07:00   \n",
       "...           ...             ...        ...         ...            ...   \n",
       "1875     Go First       13/2/2022  New Delhi      Mumbai          11:50   \n",
       "1876     Go First       13/2/2022  New Delhi      Mumbai          10:50   \n",
       "1877     Go First       13/2/2022  New Delhi      Mumbai          13:45   \n",
       "1878     Go First       13/2/2022  New Delhi      Mumbai          10:50   \n",
       "1879     Go First       13/2/2022  New Delhi      Mumbai          09:15   \n",
       "\n",
       "     arrival_time duration total_stops  price  \n",
       "0           08:40   2h 20m    Non Stop  5,953  \n",
       "1           15:35   2h 05m    Non Stop  5,954  \n",
       "2           17:35   2h 05m    Non Stop  5,954  \n",
       "3           19:05   2h 05m    Non Stop  5,954  \n",
       "4           09:10   2h 10m    Non Stop  5,954  \n",
       "...           ...      ...         ...    ...  \n",
       "1875        18:10   6h 20m      1 Stop  5,954  \n",
       "1876        18:20   7h 30m      1 Stop  5,954  \n",
       "1877        22:20   8h 35m   2 Stop(s)  5,954  \n",
       "1878        19:40   8h 50m      1 Stop  5,954  \n",
       "1879        18:10   8h 55m      1 Stop  5,954  \n",
       "\n",
       "[1880 rows x 9 columns]"
      ]
     },
     "execution_count": 167,
     "metadata": {},
     "output_type": "execute_result"
    }
   ],
   "source": [
    "df = pd.DataFrame({})\n",
    "df[\"airline_name\"] = airline_name_n\n",
    "df[\"date_of_journey\"] = date_of_journey_n1\n",
    "df[\"source\"] = source_n\n",
    "df[\"destination\"] = destination_n\n",
    "df[\"departure_time\"] = departure_time_n\n",
    "df[\"arrival_time\"] = arrival_time_n\n",
    "df[\"duration\"] = duration_n\n",
    "df[\"total_stops\"] = total_stops_n\n",
    "df[\"price\"] = price_n\n",
    "\n",
    "\n",
    "\n",
    "\n",
    "df"
   ]
  },
  {
   "cell_type": "markdown",
   "id": "76abb432",
   "metadata": {},
   "source": [
    "file_name = 'flight_data1.xlsx'\n",
    "df.to_excel(file_name)\n",
    "print('DataFrame is written to Excel File successfully.')"
   ]
  },
  {
   "cell_type": "code",
   "execution_count": 168,
   "id": "7b9906b5",
   "metadata": {},
   "outputs": [],
   "source": [
    "file_name = 'flight_data2.csv'\n",
    "df.to_csv(file_name)"
   ]
  },
  {
   "cell_type": "code",
   "execution_count": 169,
   "id": "c581ff9e",
   "metadata": {},
   "outputs": [
    {
     "data": {
      "text/html": [
       "<div>\n",
       "<style scoped>\n",
       "    .dataframe tbody tr th:only-of-type {\n",
       "        vertical-align: middle;\n",
       "    }\n",
       "\n",
       "    .dataframe tbody tr th {\n",
       "        vertical-align: top;\n",
       "    }\n",
       "\n",
       "    .dataframe thead th {\n",
       "        text-align: right;\n",
       "    }\n",
       "</style>\n",
       "<table border=\"1\" class=\"dataframe\">\n",
       "  <thead>\n",
       "    <tr style=\"text-align: right;\">\n",
       "      <th></th>\n",
       "      <th>Unnamed: 0</th>\n",
       "      <th>airline_name</th>\n",
       "      <th>date_of_journey</th>\n",
       "      <th>source</th>\n",
       "      <th>destination</th>\n",
       "      <th>departure_time</th>\n",
       "      <th>arrival_time</th>\n",
       "      <th>duration</th>\n",
       "      <th>total_stops</th>\n",
       "      <th>price</th>\n",
       "    </tr>\n",
       "  </thead>\n",
       "  <tbody>\n",
       "    <tr>\n",
       "      <th>0</th>\n",
       "      <td>0</td>\n",
       "      <td>SpiceJet</td>\n",
       "      <td>1/2/2022</td>\n",
       "      <td>New Delhi</td>\n",
       "      <td>Mumbai</td>\n",
       "      <td>06:20</td>\n",
       "      <td>08:40</td>\n",
       "      <td>2h 20m</td>\n",
       "      <td>Non Stop</td>\n",
       "      <td>5,953</td>\n",
       "    </tr>\n",
       "    <tr>\n",
       "      <th>1</th>\n",
       "      <td>1</td>\n",
       "      <td>Go First</td>\n",
       "      <td>1/2/2022</td>\n",
       "      <td>New Delhi</td>\n",
       "      <td>Mumbai</td>\n",
       "      <td>13:30</td>\n",
       "      <td>15:35</td>\n",
       "      <td>2h 05m</td>\n",
       "      <td>Non Stop</td>\n",
       "      <td>5,954</td>\n",
       "    </tr>\n",
       "    <tr>\n",
       "      <th>2</th>\n",
       "      <td>2</td>\n",
       "      <td>Go First</td>\n",
       "      <td>1/2/2022</td>\n",
       "      <td>New Delhi</td>\n",
       "      <td>Mumbai</td>\n",
       "      <td>15:30</td>\n",
       "      <td>17:35</td>\n",
       "      <td>2h 05m</td>\n",
       "      <td>Non Stop</td>\n",
       "      <td>5,954</td>\n",
       "    </tr>\n",
       "    <tr>\n",
       "      <th>3</th>\n",
       "      <td>3</td>\n",
       "      <td>Go First</td>\n",
       "      <td>1/2/2022</td>\n",
       "      <td>New Delhi</td>\n",
       "      <td>Mumbai</td>\n",
       "      <td>17:00</td>\n",
       "      <td>19:05</td>\n",
       "      <td>2h 05m</td>\n",
       "      <td>Non Stop</td>\n",
       "      <td>5,954</td>\n",
       "    </tr>\n",
       "    <tr>\n",
       "      <th>4</th>\n",
       "      <td>4</td>\n",
       "      <td>Go First</td>\n",
       "      <td>1/2/2022</td>\n",
       "      <td>New Delhi</td>\n",
       "      <td>Mumbai</td>\n",
       "      <td>07:00</td>\n",
       "      <td>09:10</td>\n",
       "      <td>2h 10m</td>\n",
       "      <td>Non Stop</td>\n",
       "      <td>5,954</td>\n",
       "    </tr>\n",
       "  </tbody>\n",
       "</table>\n",
       "</div>"
      ],
      "text/plain": [
       "   Unnamed: 0 airline_name date_of_journey     source destination  \\\n",
       "0           0     SpiceJet        1/2/2022  New Delhi      Mumbai   \n",
       "1           1     Go First        1/2/2022  New Delhi      Mumbai   \n",
       "2           2     Go First        1/2/2022  New Delhi      Mumbai   \n",
       "3           3     Go First        1/2/2022  New Delhi      Mumbai   \n",
       "4           4     Go First        1/2/2022  New Delhi      Mumbai   \n",
       "\n",
       "  departure_time arrival_time duration total_stops  price  \n",
       "0          06:20        08:40   2h 20m    Non Stop  5,953  \n",
       "1          13:30        15:35   2h 05m    Non Stop  5,954  \n",
       "2          15:30        17:35   2h 05m    Non Stop  5,954  \n",
       "3          17:00        19:05   2h 05m    Non Stop  5,954  \n",
       "4          07:00        09:10   2h 10m    Non Stop  5,954  "
      ]
     },
     "execution_count": 169,
     "metadata": {},
     "output_type": "execute_result"
    }
   ],
   "source": [
    "df2= pd.read_csv(\"flight_data2.csv\")\n",
    "df2.head()"
   ]
  },
  {
   "cell_type": "raw",
   "id": "9d51677d",
   "metadata": {},
   "source": [
    "df1= pd.read_excel(\"flight_data1.xlsx\")\n",
    "df1.head()\n"
   ]
  },
  {
   "cell_type": "code",
   "execution_count": 170,
   "id": "8b173ee1",
   "metadata": {},
   "outputs": [
    {
     "data": {
      "text/html": [
       "<div>\n",
       "<style scoped>\n",
       "    .dataframe tbody tr th:only-of-type {\n",
       "        vertical-align: middle;\n",
       "    }\n",
       "\n",
       "    .dataframe tbody tr th {\n",
       "        vertical-align: top;\n",
       "    }\n",
       "\n",
       "    .dataframe thead th {\n",
       "        text-align: right;\n",
       "    }\n",
       "</style>\n",
       "<table border=\"1\" class=\"dataframe\">\n",
       "  <thead>\n",
       "    <tr style=\"text-align: right;\">\n",
       "      <th></th>\n",
       "      <th>Unnamed: 0</th>\n",
       "      <th>airline_name</th>\n",
       "      <th>date_of_journey</th>\n",
       "      <th>source</th>\n",
       "      <th>destination</th>\n",
       "      <th>departure_time</th>\n",
       "      <th>arrival_time</th>\n",
       "      <th>duration</th>\n",
       "      <th>total_stops</th>\n",
       "      <th>price</th>\n",
       "    </tr>\n",
       "  </thead>\n",
       "  <tbody>\n",
       "    <tr>\n",
       "      <th>134</th>\n",
       "      <td>134</td>\n",
       "      <td>Go First</td>\n",
       "      <td>11/2/2022</td>\n",
       "      <td>New Delhi</td>\n",
       "      <td>Mumbai</td>\n",
       "      <td>16:40</td>\n",
       "      <td>21:25</td>\n",
       "      <td>4h 45m</td>\n",
       "      <td>1 Stop</td>\n",
       "      <td>5,954</td>\n",
       "    </tr>\n",
       "  </tbody>\n",
       "</table>\n",
       "</div>"
      ],
      "text/plain": [
       "     Unnamed: 0 airline_name date_of_journey     source destination  \\\n",
       "134         134     Go First       11/2/2022  New Delhi      Mumbai   \n",
       "\n",
       "    departure_time arrival_time duration total_stops  price  \n",
       "134          16:40        21:25   4h 45m      1 Stop  5,954  "
      ]
     },
     "execution_count": 170,
     "metadata": {},
     "output_type": "execute_result"
    }
   ],
   "source": [
    "df2.sample()"
   ]
  },
  {
   "cell_type": "code",
   "execution_count": 171,
   "id": "2a989234",
   "metadata": {},
   "outputs": [],
   "source": [
    "driver.close()"
   ]
  },
  {
   "cell_type": "code",
   "execution_count": null,
   "id": "40e4c310",
   "metadata": {},
   "outputs": [],
   "source": []
  }
 ],
 "metadata": {
  "kernelspec": {
   "display_name": "Python 3 (ipykernel)",
   "language": "python",
   "name": "python3"
  },
  "language_info": {
   "codemirror_mode": {
    "name": "ipython",
    "version": 3
   },
   "file_extension": ".py",
   "mimetype": "text/x-python",
   "name": "python",
   "nbconvert_exporter": "python",
   "pygments_lexer": "ipython3",
   "version": "3.8.12"
  }
 },
 "nbformat": 4,
 "nbformat_minor": 5
}
